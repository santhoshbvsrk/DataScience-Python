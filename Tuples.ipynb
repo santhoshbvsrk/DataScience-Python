{
 "cells": [
  {
   "cell_type": "code",
   "execution_count": 5,
   "metadata": {},
   "outputs": [
    {
     "name": "stdout",
     "output_type": "stream",
     "text": [
      "(12.2, 12, 100)\n",
      "('x', 'y', 100, 'h')\n",
      "('x', 'y', (12.2, 12, 100), 1, [1, 3, 5, 'san'])\n"
     ]
    }
   ],
   "source": [
    "emptyTuple=() #creating an empty tuple\n",
    "\n",
    "myNumberTuple = (12.2,12,100) #creating a number tuple\n",
    "print(myNumberTuple)\n",
    "\n",
    "myMixedTuple = ('x','y',100,'h') #creating a mixed tuple\n",
    "print(myMixedTuple)\n",
    "\n",
    "myNestedTuple = ('x','y',myNumberTuple,1,[1,3,5,'san']) #creating a nested/complex tuple\n",
    "print(myNestedTuple)"
   ]
  },
  {
   "cell_type": "code",
   "execution_count": 7,
   "metadata": {},
   "outputs": [
    {
     "name": "stdout",
     "output_type": "stream",
     "text": [
      "<class 'str'>\n"
     ]
    }
   ],
   "source": [
    "isItTuple=('Santhosh') #only paranthesis is not enough\n",
    "print(type(isItTuple)) "
   ]
  },
  {
   "cell_type": "code",
   "execution_count": 8,
   "metadata": {},
   "outputs": [
    {
     "name": "stdout",
     "output_type": "stream",
     "text": [
      "<class 'tuple'>\n"
     ]
    }
   ],
   "source": [
    "isItTuple=('Santhosh',)  #, is mandatory in tuple\n",
    "print(type(isItTuple)) "
   ]
  },
  {
   "cell_type": "code",
   "execution_count": 10,
   "metadata": {},
   "outputs": [
    {
     "name": "stdout",
     "output_type": "stream",
     "text": [
      "<class 'tuple'>\n",
      "('Santhosh',)\n"
     ]
    }
   ],
   "source": [
    "isItTuple='Santhosh', # () aren't mandatory in a tuple, but is a good practise to keep one\n",
    "print(type(isItTuple)) \n",
    "print(isItTuple)"
   ]
  },
  {
   "cell_type": "code",
   "execution_count": 11,
   "metadata": {},
   "outputs": [
    {
     "name": "stdout",
     "output_type": "stream",
     "text": [
      "Mini\n"
     ]
    }
   ],
   "source": [
    "myTuple=('Santhosh','Kumar','Puja','Mini') #how to access elements in a tuple\n",
    "print(myTuple[3])"
   ]
  },
  {
   "cell_type": "code",
   "execution_count": 12,
   "metadata": {},
   "outputs": [
    {
     "name": "stdout",
     "output_type": "stream",
     "text": [
      "Mini\n"
     ]
    }
   ],
   "source": [
    "print(myTuple[-1]) #print the last element in tuple"
   ]
  },
  {
   "cell_type": "code",
   "execution_count": 14,
   "metadata": {},
   "outputs": [
    {
     "name": "stdout",
     "output_type": "stream",
     "text": [
      "Puja\n"
     ]
    }
   ],
   "source": [
    "myTuple=('santhosh',('Kumar','Puja','Mini')) #nested tuple\n",
    "print(myTuple[1][1]) # to access element inside a nested tuple\n"
   ]
  },
  {
   "cell_type": "code",
   "execution_count": 25,
   "metadata": {},
   "outputs": [
    {
     "name": "stdout",
     "output_type": "stream",
     "text": [
      "(10, 11, 13)\n",
      "(10, 11, 13, 15, 12)\n",
      "(12, 16, 12)\n",
      "(10, 13, 12)\n"
     ]
    }
   ],
   "source": [
    "myTuple=(10,11,13,15,12,16,12)\n",
    "\n",
    "print(myTuple[0:3]) #slicing elements\n",
    "print(myTuple[:-2])\n",
    "print(myTuple[-3:])\n",
    "print(myTuple[0:-1:2]) # the last value after colon i.e., 2 is stride/step i.e., it'll jump those many steps\n"
   ]
  },
  {
   "cell_type": "code",
   "execution_count": 31,
   "metadata": {},
   "outputs": [
    {
     "name": "stdout",
     "output_type": "stream",
     "text": [
      "2419525563400\n",
      "(10, 11, 12, [55, 46, 77])\n",
      "2419525563400\n"
     ]
    }
   ],
   "source": [
    "myTuple=(10,11,12,[55,66,77])  #altering data in tuple\n",
    "#myTuple[1]=22 #You can't change data in tuple as theyare immutable \n",
    "print(id(myTuple))\n",
    "myTuple[3][1]=46 #you can change value of list inside a tuple as it is list\n",
    "print(myTuple) \n",
    "print(id(myTuple)) #tuples id is not changed even when you changed content of list as tuples are immutable."
   ]
  },
  {
   "cell_type": "code",
   "execution_count": 38,
   "metadata": {},
   "outputs": [
    {
     "name": "stdout",
     "output_type": "stream",
     "text": [
      "(1, 3, 4, 2, 6, 'san', 'Kumar', 'puja', 'mini', 4, 2, 45, 23, 7)\n"
     ]
    }
   ],
   "source": [
    "#concatenate 2 tuples\n",
    "myTuple1=(1,3,4,2,6,'san')\n",
    "myTuple2=('Kumar','puja','mini',4,2,45,23,7)\n",
    "myTuple=myTuple1+myTuple2\n",
    "print(myTuple)"
   ]
  },
  {
   "cell_type": "code",
   "execution_count": 36,
   "metadata": {},
   "outputs": [
    {
     "name": "stdout",
     "output_type": "stream",
     "text": [
      "('Santhosh', 'Santhosh', 'Santhosh', 'Santhosh')\n",
      "<class 'tuple'>\n"
     ]
    }
   ],
   "source": [
    "#Repeat items in tuple using * operator\n",
    "myTuple=(('Santhosh',)*4)\n",
    "print(myTuple)\n",
    "print(type(myTuple))"
   ]
  },
  {
   "cell_type": "code",
   "execution_count": 39,
   "metadata": {},
   "outputs": [],
   "source": [
    "#delete from a tuple\n",
    "myTuple=(1, 3, 4, 2, 6, 'san', 'Kumar', 'puja', 'mini', 4, 2, 45, 23, 7)\n",
    "del myTuple #delete entire tuple as deleting elements form inside tuple is not possible"
   ]
  },
  {
   "cell_type": "code",
   "execution_count": 41,
   "metadata": {},
   "outputs": [
    {
     "data": {
      "text/plain": [
       "2"
      ]
     },
     "execution_count": 41,
     "metadata": {},
     "output_type": "execute_result"
    }
   ],
   "source": [
    "#count occurence of an item in tuple\n",
    "myTuple=(1, 3, 4, 2, 6, 'san', 'Kumar', 'puja', 'mini', 4, 2, 45, 23, 7)\n",
    "myTuple.count(4)"
   ]
  },
  {
   "cell_type": "code",
   "execution_count": 43,
   "metadata": {},
   "outputs": [
    {
     "name": "stdout",
     "output_type": "stream",
     "text": [
      "2\n"
     ]
    }
   ],
   "source": [
    "#Get index position of an item\n",
    "myTuple=(1, 3, 4, 2, 6, 'san', 'Kumar', 'puja', 'mini', 4, 2, 45, 23, 7)\n",
    "print(myTuple.index(4))"
   ]
  },
  {
   "cell_type": "code",
   "execution_count": 46,
   "metadata": {},
   "outputs": [
    {
     "name": "stdout",
     "output_type": "stream",
     "text": [
      "True\n",
      "False\n"
     ]
    }
   ],
   "source": [
    "#Membership in tuple\n",
    "myTuple=(1, 3, 4, 2, 6, 'san', 'Kumar', 'puja', 'mini', 4, 2, 45, 23, 7)\n",
    "print('san' in myTuple)\n",
    "print('San' in myTuple)"
   ]
  },
  {
   "cell_type": "code",
   "execution_count": 63,
   "metadata": {},
   "outputs": [
    {
     "name": "stdout",
     "output_type": "stream",
     "text": [
      "14\n",
      "Original tuple (45, 1, 3, 4, 4, 10, 12, 0, 2, 4)\n",
      "2419540041416\n",
      "Sorted Tuple [0, 1, 2, 3, 4, 4, 4, 10, 12, 45]\n",
      "2419544050760\n",
      "<reversed object at 0x0000023354FC0D48>\n"
     ]
    }
   ],
   "source": [
    "myTuple=(1, 3, 4, 2, 6, 'san', 'Kumar', 'puja', 'mini', 4, 2, 45, 23, 7)\n",
    "\n",
    "#length of tuple\n",
    "print(len(myTuple))\n",
    "\n",
    "#sort a tuple\n",
    "#print(sorted(myTuple)) # cannot sort tuple with mixed data types\n",
    "myTuple1=(45,1,3,4,4,10,12,0,2,4)\n",
    "myTuple2=sorted(myTuple1)\n",
    "print(\"Original tuple\", myTuple1)\n",
    "print(id(myTuple1))\n",
    "print(\"Sorted Tuple\", sorted(myTuple2))\n",
    "print(id(myTuple2))\n",
    "\n",
    "#reverse of a tuple\n",
    "myTuple3=reversed(myTuple1)\n",
    "print(myTuple3)"
   ]
  },
  {
   "cell_type": "code",
   "execution_count": 57,
   "metadata": {},
   "outputs": [
    {
     "name": "stdout",
     "output_type": "stream",
     "text": [
      "45\n",
      "-1\n"
     ]
    }
   ],
   "source": [
    "#max & min of a tuple\n",
    "myTuple1=(45,1,3,4,4,10,12,-1,2,4)\n",
    "print(max(myTuple1)) #max of myTuple \n",
    "print(min(myTuple1)) #min of myTuple"
   ]
  },
  {
   "cell_type": "code",
   "execution_count": 59,
   "metadata": {},
   "outputs": [
    {
     "name": "stdout",
     "output_type": "stream",
     "text": [
      "84\n"
     ]
    }
   ],
   "source": [
    "print(sum(myTuple1))"
   ]
  }
 ],
 "metadata": {
  "kernelspec": {
   "display_name": "Python 3",
   "language": "python",
   "name": "python3"
  },
  "language_info": {
   "codemirror_mode": {
    "name": "ipython",
    "version": 3
   },
   "file_extension": ".py",
   "mimetype": "text/x-python",
   "name": "python",
   "nbconvert_exporter": "python",
   "pygments_lexer": "ipython3",
   "version": "3.7.6"
  }
 },
 "nbformat": 4,
 "nbformat_minor": 4
}
