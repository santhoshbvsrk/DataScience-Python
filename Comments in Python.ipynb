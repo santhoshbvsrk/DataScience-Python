{
 "cells": [
  {
   "cell_type": "code",
   "execution_count": 2,
   "metadata": {},
   "outputs": [
    {
     "name": "stdout",
     "output_type": "stream",
     "text": [
      "10\n"
     ]
    }
   ],
   "source": [
    "#single line comment\n",
    "i = 10\n",
    "print (i) # printing value of i"
   ]
  },
  {
   "cell_type": "code",
   "execution_count": 7,
   "metadata": {},
   "outputs": [
    {
     "name": "stdout",
     "output_type": "stream",
     "text": [
      "30\n"
     ]
    }
   ],
   "source": [
    "#commenting in multiple lines, using #\n",
    "#In this programm we'll show how to write comments in multiple lines i.e., by using # symbol at start of every line\n",
    "i = 30\n",
    "print (i)"
   ]
  },
  {
   "cell_type": "code",
   "execution_count": 9,
   "metadata": {},
   "outputs": [
    {
     "name": "stdout",
     "output_type": "stream",
     "text": [
      "50\n"
     ]
    }
   ],
   "source": [
    "#another way to write comments in multiple lines\n",
    "\"\"\"\"\n",
    "This is another way of commenting multiple lines\n",
    "Here, I can use either 3 double quotes or \n",
    "3 single quotes inside which we can write comments\n",
    "of any number of lines\n",
    "\"\"\"\"\"\n",
    "i=50\n",
    "print (i)"
   ]
  },
  {
   "cell_type": "code",
   "execution_count": 16,
   "metadata": {},
   "outputs": [
    {
     "name": "stdout",
     "output_type": "stream",
     "text": [
      "1156\n"
     ]
    }
   ],
   "source": [
    "def square(num):\n",
    "    \"\"\"\n",
    "    This function is used to give square of a number. Here indentation is very important.\n",
    "    If you see in line#2 we gave double quotes after a tab space which need to be followed in Python\n",
    "    \"\"\"\n",
    "    return num*num\n",
    "\n",
    "print(square(34))"
   ]
  }
 ],
 "metadata": {
  "kernelspec": {
   "display_name": "Python 3",
   "language": "python",
   "name": "python3"
  },
  "language_info": {
   "codemirror_mode": {
    "name": "ipython",
    "version": 3
   },
   "file_extension": ".py",
   "mimetype": "text/x-python",
   "name": "python",
   "nbconvert_exporter": "python",
   "pygments_lexer": "ipython3",
   "version": "3.7.6"
  }
 },
 "nbformat": 4,
 "nbformat_minor": 4
}
