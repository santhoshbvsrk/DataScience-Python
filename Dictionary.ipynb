{
 "cells": [
  {
   "cell_type": "code",
   "execution_count": 7,
   "metadata": {},
   "outputs": [
    {
     "name": "stdout",
     "output_type": "stream",
     "text": [
      "<class 'dict'>\n",
      "{}\n",
      "{100: 'excellent', 50: 'fair'}\n",
      "{'name': 'Santhosh', 10: ['sun', 'star']}\n",
      "<class 'dict'>\n",
      "{4: 'abcd', 2: 'ab'}\n"
     ]
    }
   ],
   "source": [
    "#Dictionary is an unordered data set, it is a key:value pair\n",
    "\n",
    "myDict={} #creating empty dictionary\n",
    "print(type(myDict))\n",
    "print(myDict)\n",
    "\n",
    "myDict1={100:'excellent',50:'fair'}\n",
    "print(myDict1)\n",
    "\n",
    "myMixedKeysDict = {'name':'Santhosh',10:['sun','star']} #mixed dictionary\n",
    "print(myMixedKeysDict)\n",
    "\n",
    "myDic=dict() #Create empty dictionary using dict() method\n",
    "print(type(myDic))\n",
    "\n",
    "myDict= dict([(4,'abcd'),(2,'ab')]) #create a dict with list of tuples, this internally converts them to key value pair\n",
    "print(myDict)"
   ]
  },
  {
   "cell_type": "code",
   "execution_count": 10,
   "metadata": {},
   "outputs": [
    {
     "name": "stdout",
     "output_type": "stream",
     "text": [
      "92\n"
     ]
    }
   ],
   "source": [
    "myDict={'name':'santhosh','marks':92,'hobby':'guitar'}\n",
    "print(myDict['marks'])"
   ]
  },
  {
   "cell_type": "code",
   "execution_count": 11,
   "metadata": {},
   "outputs": [
    {
     "ename": "KeyError",
     "evalue": "'score'",
     "output_type": "error",
     "traceback": [
      "\u001b[1;31m---------------------------------------------------------------------------\u001b[0m",
      "\u001b[1;31mKeyError\u001b[0m                                  Traceback (most recent call last)",
      "\u001b[1;32m<ipython-input-11-4772cd8cc362>\u001b[0m in \u001b[0;36m<module>\u001b[1;34m\u001b[0m\n\u001b[1;32m----> 1\u001b[1;33m \u001b[0mprint\u001b[0m\u001b[1;33m(\u001b[0m\u001b[0mmyDict\u001b[0m\u001b[1;33m[\u001b[0m\u001b[1;34m'score'\u001b[0m\u001b[1;33m]\u001b[0m\u001b[1;33m)\u001b[0m\u001b[1;33m\u001b[0m\u001b[1;33m\u001b[0m\u001b[0m\n\u001b[0m",
      "\u001b[1;31mKeyError\u001b[0m: 'score'"
     ]
    }
   ],
   "source": [
    "print(myDict['score']) #Key error if key is not found in dictionary"
   ]
  },
  {
   "cell_type": "code",
   "execution_count": 13,
   "metadata": {},
   "outputs": [
    {
     "name": "stdout",
     "output_type": "stream",
     "text": [
      "santhosh\n"
     ]
    }
   ],
   "source": [
    "print(myDict.get('name')) #alternately use get(key) to access the value"
   ]
  },
  {
   "cell_type": "code",
   "execution_count": 14,
   "metadata": {},
   "outputs": [
    {
     "name": "stdout",
     "output_type": "stream",
     "text": [
      "None\n"
     ]
    }
   ],
   "source": [
    "print(myDict.get('score')) #get method doesn't throw error if key doesn't exist"
   ]
  },
  {
   "cell_type": "code",
   "execution_count": 15,
   "metadata": {},
   "outputs": [
    {
     "name": "stdout",
     "output_type": "stream",
     "text": [
      "{'name': 'kumar', 'marks': 92, 'hobby': 'guitar'}\n"
     ]
    }
   ],
   "source": [
    "myDict={'name':'santhosh','marks':92,'hobby':'guitar'}\n",
    "\n",
    "myDict['name']='kumar' #update the value in key 'name'\n",
    "print(myDict)"
   ]
  },
  {
   "cell_type": "code",
   "execution_count": 17,
   "metadata": {},
   "outputs": [
    {
     "name": "stdout",
     "output_type": "stream",
     "text": [
      "{'name': 'kumar', 'marks': 92, 'hobby': 'guitar', 'subject': 'Physics'}\n"
     ]
    }
   ],
   "source": [
    "#add a new key-value pair\n",
    "\n",
    "myDict['subject']='Physics'\n",
    "print(myDict)"
   ]
  },
  {
   "cell_type": "code",
   "execution_count": 20,
   "metadata": {},
   "outputs": [
    {
     "name": "stdout",
     "output_type": "stream",
     "text": [
      "Physics\n",
      "{'name': 'kumar', 'marks': 92, 'hobby': 'guitar'}\n"
     ]
    }
   ],
   "source": [
    "#removing element using pop()\n",
    "myDict={'name': 'kumar', 'marks': 92, 'hobby': 'guitar', 'subject': 'Physics'}\n",
    "print(myDict.pop('subject'))\n",
    "print(myDict)"
   ]
  },
  {
   "cell_type": "code",
   "execution_count": 23,
   "metadata": {},
   "outputs": [
    {
     "name": "stdout",
     "output_type": "stream",
     "text": [
      "{'marks': 92, 'hobby': 'guitar', 'subject': 'Physics'}\n"
     ]
    }
   ],
   "source": [
    "myDict={'name': 'kumar', 'marks': 92, 'hobby': 'guitar', 'subject': 'Physics'}\n",
    "\n",
    "#delete using del keyword\n",
    "del myDict['name']\n",
    "print(myDict)"
   ]
  },
  {
   "cell_type": "code",
   "execution_count": 24,
   "metadata": {},
   "outputs": [
    {
     "name": "stdout",
     "output_type": "stream",
     "text": [
      "{}\n"
     ]
    }
   ],
   "source": [
    "#remove all items i.e., clear dictionary\n",
    "\n",
    "myDict={'name': 'kumar', 'marks': 92, 'hobby': 'guitar', 'subject': 'Physics'}\n",
    "\n",
    "myDict.clear()\n",
    "print(myDict)"
   ]
  },
  {
   "cell_type": "code",
   "execution_count": 25,
   "metadata": {},
   "outputs": [
    {
     "ename": "NameError",
     "evalue": "name 'myDict' is not defined",
     "output_type": "error",
     "traceback": [
      "\u001b[1;31m---------------------------------------------------------------------------\u001b[0m",
      "\u001b[1;31mNameError\u001b[0m                                 Traceback (most recent call last)",
      "\u001b[1;32m<ipython-input-25-4a8a98744c69>\u001b[0m in \u001b[0;36m<module>\u001b[1;34m\u001b[0m\n\u001b[0;32m      2\u001b[0m \u001b[1;32mdel\u001b[0m \u001b[0mmyDict\u001b[0m\u001b[1;33m\u001b[0m\u001b[1;33m\u001b[0m\u001b[0m\n\u001b[0;32m      3\u001b[0m \u001b[1;33m\u001b[0m\u001b[0m\n\u001b[1;32m----> 4\u001b[1;33m \u001b[0mprint\u001b[0m\u001b[1;33m(\u001b[0m\u001b[0mmyDict\u001b[0m\u001b[1;33m)\u001b[0m\u001b[1;33m\u001b[0m\u001b[1;33m\u001b[0m\u001b[0m\n\u001b[0m",
      "\u001b[1;31mNameError\u001b[0m: name 'myDict' is not defined"
     ]
    }
   ],
   "source": [
    "#delete dictionary in total along with memory location\n",
    "del myDict\n",
    "\n",
    "print(myDict)"
   ]
  },
  {
   "cell_type": "code",
   "execution_count": 27,
   "metadata": {},
   "outputs": [
    {
     "name": "stdout",
     "output_type": "stream",
     "text": [
      "{'name': 'kumar', 'marks': 92, 'hobby': 'guitar', 'subject': 'Physics'}\n",
      "1720645607240\n",
      "1720645607160\n"
     ]
    }
   ],
   "source": [
    "myDict={'name': 'kumar', 'marks': 92, 'hobby': 'guitar', 'subject': 'Physics'}\n",
    "\n",
    "myDict1=myDict.copy() #copies dictionary\n",
    "print(myDict1) \n",
    "\n",
    "print(id(myDict))\n",
    "print(id(myDict1)) #here the addresses are different that means they point to different memory locations"
   ]
  },
  {
   "cell_type": "code",
   "execution_count": 29,
   "metadata": {},
   "outputs": [
    {
     "name": "stdout",
     "output_type": "stream",
     "text": [
      "{'apple': 0, 'banana': 0, 'grapes': 0}\n"
     ]
    }
   ],
   "source": [
    "#fromkeys[seq[,v]] --> return a new dictionary with keys from seq and value equal to v (defaults to None)\n",
    "fruits={}.fromkeys(['apple','banana','grapes'],0)\n",
    "\n",
    "print(fruits)"
   ]
  },
  {
   "cell_type": "code",
   "execution_count": 32,
   "metadata": {},
   "outputs": [
    {
     "name": "stdout",
     "output_type": "stream",
     "text": [
      "dict_items([(2, 4), (3, 9), (4, 16), (5, 25)])\n"
     ]
    }
   ],
   "source": [
    "varDict={2:4,3:9,4:16,5:25}\n",
    "print(varDict.items()) #return a new view of dictionary items (key,value)"
   ]
  },
  {
   "cell_type": "code",
   "execution_count": 34,
   "metadata": {},
   "outputs": [
    {
     "name": "stdout",
     "output_type": "stream",
     "text": [
      "dict_keys(['apple', 'banana', 'grapes'])\n",
      "dict_values([2, 12, 10])\n"
     ]
    }
   ],
   "source": [
    "fruits= {'apple':2,'banana':12,'grapes':10}\n",
    "\n",
    "print(fruits.keys()) #returns the dictionary keys\n",
    "\n",
    "print(fruits.values()) #returns the dictionary values"
   ]
  },
  {
   "cell_type": "code",
   "execution_count": 35,
   "metadata": {},
   "outputs": [
    {
     "name": "stdout",
     "output_type": "stream",
     "text": [
      "['__class__', '__contains__', '__delattr__', '__delitem__', '__dir__', '__doc__', '__eq__', '__format__', '__ge__', '__getattribute__', '__getitem__', '__gt__', '__hash__', '__init__', '__init_subclass__', '__iter__', '__le__', '__len__', '__lt__', '__ne__', '__new__', '__reduce__', '__reduce_ex__', '__repr__', '__setattr__', '__setitem__', '__sizeof__', '__str__', '__subclasshook__', 'clear', 'copy', 'fromkeys', 'get', 'items', 'keys', 'pop', 'popitem', 'setdefault', 'update', 'values']\n"
     ]
    }
   ],
   "source": [
    "dict={}\n",
    "\n",
    "#get list of all available methods and attributes of dictionary\n",
    "print(dir(dict))"
   ]
  },
  {
   "cell_type": "code",
   "execution_count": 2,
   "metadata": {},
   "outputs": [
    {
     "name": "stdout",
     "output_type": "stream",
     "text": [
      "('apple', 2)\n",
      "('banana', 12)\n",
      "('grapes', 10)\n"
     ]
    }
   ],
   "source": [
    "fruits= {'apple':2,'banana':12,'grapes':10}\n",
    "\n",
    "#comprehension in dictionary\n",
    "for i in fruits.items():\n",
    "    print(i)"
   ]
  },
  {
   "cell_type": "code",
   "execution_count": 8,
   "metadata": {},
   "outputs": [
    {
     "name": "stdout",
     "output_type": "stream",
     "text": [
      "{'banana': 12, 'grapes': 10}\n"
     ]
    }
   ],
   "source": [
    "fruits= {'apple':3,'banana':12,'grapes':10,'papaya':23}\n",
    "#create a new dictionary with only pairs where the value is even\n",
    "\n",
    "myDict = {k:v for k,v in fruits.items() if v%2==0}\n",
    "print(myDict)"
   ]
  },
  {
   "cell_type": "code",
   "execution_count": 9,
   "metadata": {},
   "outputs": [
    {
     "name": "stdout",
     "output_type": "stream",
     "text": [
      "{'banana_royal': 144, 'grapes_royal': 120}\n"
     ]
    }
   ],
   "source": [
    "fruits= {'apple':3,'banana':12,'grapes':10,'papaya':23}\n",
    "#perform changes on both key & value pair\n",
    "\n",
    "myDict = {k+ '_royal':v *12 for k,v in fruits.items() if v%2==0}\n",
    "print(myDict)"
   ]
  }
 ],
 "metadata": {
  "kernelspec": {
   "display_name": "Python 3",
   "language": "python",
   "name": "python3"
  },
  "language_info": {
   "codemirror_mode": {
    "name": "ipython",
    "version": 3
   },
   "file_extension": ".py",
   "mimetype": "text/x-python",
   "name": "python",
   "nbconvert_exporter": "python",
   "pygments_lexer": "ipython3",
   "version": "3.7.6"
  }
 },
 "nbformat": 4,
 "nbformat_minor": 4
}
