{
 "cells": [
  {
   "cell_type": "code",
   "execution_count": 21,
   "metadata": {},
   "outputs": [
    {
     "name": "stdout",
     "output_type": "stream",
     "text": [
      "Printing else\n",
      "outside if\n"
     ]
    }
   ],
   "source": [
    "var1=10\n",
    "if var1<5:\n",
    "    print(var1,'is less than 5')\n",
    "else:\n",
    "    print('Printing else')\n",
    "print('outside if')"
   ]
  },
  {
   "cell_type": "code",
   "execution_count": 1,
   "metadata": {},
   "outputs": [
    {
     "name": "stdout",
     "output_type": "stream",
     "text": [
      "Testing for -1\n",
      "outside if\n"
     ]
    }
   ],
   "source": [
    "#any number other than 0 & None will return true in if statement\n",
    "if None:\n",
    "    print('Testing for None')\n",
    "elif 0:\n",
    "    print('Testing for 0')\n",
    "elif -1:\n",
    "    print('Testing for -1')\n",
    "elif 2:\n",
    "    print('Testing for 2')\n",
    "else:\n",
    "    print('Printing else')\n",
    "print('outside if')"
   ]
  },
  {
   "cell_type": "code",
   "execution_count": 3,
   "metadata": {},
   "outputs": [
    {
     "name": "stdout",
     "output_type": "stream",
     "text": [
      "Testing for 2\n",
      "outside if\n",
      "Boolean value of 0 is False\n",
      "Boolean value of None is False\n",
      "Boolean value of -1000.342 is True\n",
      "Boolean value of 1003420 is True\n"
     ]
    }
   ],
   "source": [
    "#any number other than 0 & None will return true in if statement\n",
    "if None:\n",
    "    print('Testing for None')\n",
    "elif 0:\n",
    "    print('Testing for 0')\n",
    "elif 2:\n",
    "    print('Testing for 2')\n",
    "else:\n",
    "    print('Printing else')\n",
    "print('outside if')\n",
    "\n",
    "#logic behind returning false for 0 & None is as follows\n",
    "val=0\n",
    "print('Boolean value of',val,'is',bool(val))\n",
    "val=None\n",
    "print('Boolean value of',val,'is',bool(val))\n",
    "val=-1000.342\n",
    "print('Boolean value of',val,'is',bool(val))\n",
    "val=1003420\n",
    "print('Boolean value of',val,'is',bool(val))"
   ]
  },
  {
   "cell_type": "code",
   "execution_count": 4,
   "metadata": {},
   "outputs": [
    {
     "name": "stdout",
     "output_type": "stream",
     "text": [
      "The person is a Child\n"
     ]
    }
   ],
   "source": [
    "age=17\n",
    "if (age>18):\n",
    "    print('The person is an Adult')\n",
    "else:\n",
    "    print('The person is a Child')"
   ]
  },
  {
   "cell_type": "code",
   "execution_count": null,
   "metadata": {},
   "outputs": [],
   "source": [
    "age=20\n",
    "person_type='not sure'\n",
    "\n",
    "if (age>=13) and (age<=19):\n",
    "    person_type='Teen'\n",
    "elif (age>0) and (age<=12):\n",
    "    person_type='Child'\n",
    "else:\n",
    "    person_type='Adult'\n",
    "    \n",
    "print(person_type)"
   ]
  },
  {
   "cell_type": "code",
   "execution_count": 4,
   "metadata": {},
   "outputs": [
    {
     "name": "stdout",
     "output_type": "stream",
     "text": [
      "The current index value is : 1\n",
      "The sum of index value @index[1] is 1:\n",
      "The current index value is : 2\n",
      "The sum of index value @index[2] is 3:\n",
      "The current index value is : 3\n",
      "The sum of index value @index[3] is 6:\n",
      "The current index value is : 4\n",
      "The sum of index value @index[4] is 10:\n",
      "The current index value is : 5\n",
      "The sum of index value @index[5] is 15:\n",
      "The final sum of elements in myList is: 15\n"
     ]
    }
   ],
   "source": [
    "#while loop\n",
    "myList=[1,2,3,4,5]\n",
    "\n",
    "sum=0\n",
    "index=0\n",
    "\n",
    "while (index< len(myList)):\n",
    "    sum+=myList[index]\n",
    "    index+=1\n",
    "    print('The current index value is :',index)\n",
    "    print('The sum of index value @index[{}] is {}:'.format(index,sum))\n",
    "print ('The final sum of elements in myList is:',sum)"
   ]
  },
  {
   "cell_type": "code",
   "execution_count": 7,
   "metadata": {},
   "outputs": [
    {
     "name": "stdout",
     "output_type": "stream",
     "text": [
      "The content of List @Index[0] is: 1\n",
      "Outside while print\n"
     ]
    }
   ],
   "source": [
    "#while loop with else block\n",
    "myList=[1,2,38,4,5]\n",
    "\n",
    "index=0\n",
    "while (index<len(myList)):\n",
    "    print('The content of List @Index[{}] is: {}'.format(index,myList[index]))\n",
    "    index+=1    \n",
    "else:\n",
    "    print('Completed iterating the List')\n"
   ]
  },
  {
   "cell_type": "code",
   "execution_count": 8,
   "metadata": {},
   "outputs": [
    {
     "name": "stdout",
     "output_type": "stream",
     "text": [
      "The content of List @Index[0] is: 1\n",
      "Outside while\n"
     ]
    }
   ],
   "source": [
    "#while loop with else block & break\n",
    "myList=[1,2,38,4,5]\n",
    "\n",
    "index=0\n",
    "while (index<len(myList)):\n",
    "    print('The content of List @Index[{}] is: {}'.format(index,myList[index]))\n",
    "    index+=1    \n",
    "    break\n",
    "else:\n",
    "    print('Completed iterating the List')\n",
    "\n",
    "print('Outside while')"
   ]
  },
  {
   "cell_type": "code",
   "execution_count": 13,
   "metadata": {},
   "outputs": [
    {
     "name": "stdout",
     "output_type": "stream",
     "text": [
      "Enter a positive non-zero number:10\n",
      "Thank you, let me share the result with you\n",
      "The factorial of 10 is: 3628800\n"
     ]
    }
   ],
   "source": [
    "#Calculate factorial of a number\n",
    "userInput = input(\"Enter a positive non-zero number:\")\n",
    "number=int(userInput)\n",
    "\n",
    "if number<=0:\n",
    "    print('Invalid Number please re-enter')\n",
    "    userInput=input('Enter a positive non-zero number:')\n",
    "    number=int(userInput)\n",
    "else:\n",
    "    print('Thank you, let me share the result with you')\n",
    "\n",
    "fact=1\n",
    "while(number>0):\n",
    "    fact*=number\n",
    "    number-=1\n",
    "print('The factorial of {} is: {}'.format(userInput,fact))"
   ]
  },
  {
   "cell_type": "code",
   "execution_count": 14,
   "metadata": {},
   "outputs": [
    {
     "name": "stdout",
     "output_type": "stream",
     "text": [
      "Sum of the array is: 15\n"
     ]
    }
   ],
   "source": [
    "#for loop\n",
    "#sum of all numbers in myList\n",
    "myList=[1,2,3,4,5]\n",
    "\n",
    "sum=0\n",
    "#iterating over the list\n",
    "for element in myList:\n",
    "    sum+=element\n",
    "\n",
    "print('Sum of the array is:',sum)"
   ]
  },
  {
   "cell_type": "code",
   "execution_count": 15,
   "metadata": {},
   "outputs": [
    {
     "name": "stdout",
     "output_type": "stream",
     "text": [
      "0\n",
      "1\n",
      "2\n",
      "3\n",
      "4\n"
     ]
    }
   ],
   "source": [
    "#print elements in range of 5\n",
    "for element in range(5):\n",
    "    print(element)"
   ]
  },
  {
   "cell_type": "code",
   "execution_count": 16,
   "metadata": {},
   "outputs": [
    {
     "name": "stdout",
     "output_type": "stream",
     "text": [
      "0\n",
      "12\n",
      "24\n",
      "36\n"
     ]
    }
   ],
   "source": [
    "#print numbers 0 to 40 with step size of 12\n",
    "for element in range(0,40,12):\n",
    "    print(element)"
   ]
  },
  {
   "cell_type": "code",
   "execution_count": 18,
   "metadata": {},
   "outputs": [
    {
     "name": "stdout",
     "output_type": "stream",
     "text": [
      "1\n",
      "2\n",
      "3\n",
      "4\n",
      "Santhosh\n"
     ]
    }
   ],
   "source": [
    "myList=[1,2,3,4,'Santhosh']\n",
    "for element in range(0,len(myList),):\n",
    "    print(myList[element])"
   ]
  },
  {
   "cell_type": "code",
   "execution_count": 21,
   "metadata": {},
   "outputs": [
    {
     "name": "stdout",
     "output_type": "stream",
     "text": [
      "Santhosh\n",
      "Kumar\n",
      "Puja\n",
      "Mini\n",
      "completed printing names from the list:['Santhosh', 'Kumar', 'Puja', 'Mini']\n"
     ]
    }
   ],
   "source": [
    "#for loop with else\n",
    "myList=['Santhosh','Kumar','Puja','Mini']\n",
    "for element in myList:\n",
    "    print(element)\n",
    "else:\n",
    "    print('completed printing names from the list:{}'.format(myList))"
   ]
  },
  {
   "cell_type": "code",
   "execution_count": 25,
   "metadata": {},
   "outputs": [
    {
     "name": "stdout",
     "output_type": "stream",
     "text": [
      "Santhosh\n",
      "Kumar\n",
      "Puja\n"
     ]
    }
   ],
   "source": [
    "#for else with break\n",
    "myList=['Santhosh','Kumar','Puja','Mini']\n",
    "for element in myList:\n",
    "    print(element)\n",
    "    if element=='Puja':\n",
    "        break\n",
    "else:\n",
    "    print('completed printing names from the list:{}'.format(myList))"
   ]
  },
  {
   "cell_type": "code",
   "execution_count": 36,
   "metadata": {},
   "outputs": [
    {
     "name": "stdout",
     "output_type": "stream",
     "text": [
      "Enter a number to find it's divisors:6\n",
      "The divisor for 6 is:1\n",
      "The divisor for 6 is:2\n",
      "The divisor for 6 is:3\n",
      "4 is not a divisor of 6\n",
      "5 is not a divisor of 6\n",
      "The list of divisors for 6 is:[1, 2, 3]\n"
     ]
    }
   ],
   "source": [
    "#Program to calculate divisors of a number\n",
    "userInput=input(\"Enter a number to find it's divisors:\")\n",
    "number = int(userInput)\n",
    "listOfDivisor=1\n",
    "myList=[]\n",
    "for listOfDivisor in range(1,number,1):\n",
    "    if (number%listOfDivisor==0):\n",
    "        print('The divisor for {} is:{}'.format(number,listOfDivisor))\n",
    "        myList.append(listOfDivisor)\n",
    "    else:\n",
    "        print('{} is not a divisor of {}'.format(listOfDivisor,number))\n",
    "print('The list of divisors for {} is:{}'.format(number,myList))"
   ]
  },
  {
   "cell_type": "code",
   "execution_count": 49,
   "metadata": {},
   "outputs": [
    {
     "name": "stdout",
     "output_type": "stream",
     "text": [
      "Being Printed from if: Santhosh\n"
     ]
    }
   ],
   "source": [
    "#use of break\n",
    "names=['Santhosh','Kumar','Puja','Mini']\n",
    "for name in names:\n",
    "    if(name=='Kumar'):\n",
    "        break\n",
    "    print('Being Printed from if:',name)\n",
    "else:\n",
    "    print(name)"
   ]
  },
  {
   "cell_type": "code",
   "execution_count": 51,
   "metadata": {},
   "outputs": [
    {
     "name": "stdout",
     "output_type": "stream",
     "text": [
      "Being Printed from if: Santhosh\n",
      "Being Printed from if: Puja\n",
      "Being Printed from if: Mini\n",
      "Mini\n"
     ]
    }
   ],
   "source": [
    "#use of continue\n",
    "names=['Santhosh','Kumar','Puja','Mini']\n",
    "for name in names:\n",
    "    if(name=='Kumar'):\n",
    "        continue\n",
    "    print('Being Printed from if:',name)\n",
    "else:\n",
    "    print(name)"
   ]
  },
  {
   "cell_type": "code",
   "execution_count": 62,
   "metadata": {},
   "outputs": [
    {
     "name": "stdout",
     "output_type": "stream",
     "text": [
      "Enter a number to find 3 divisors:4\n",
      "[1]\n"
     ]
    }
   ],
   "source": [
    "#for 3 divisors of a number except 2&3\n",
    "userInput=input('Enter a number to find 3 divisors:')\n",
    "number=int(userInput)\n",
    "\n",
    "myList=[]\n",
    "for divisor in range(1,number,1):\n",
    "    if(number%divisor==0):\n",
    "        if (divisor==2) or (divisor==3):\n",
    "            continue            \n",
    "        elif len(myList)<=2:\n",
    "            myList.append(divisor)\n",
    "print(myList)"
   ]
  }
 ],
 "metadata": {
  "kernelspec": {
   "display_name": "Python 3",
   "language": "python",
   "name": "python3"
  },
  "language_info": {
   "codemirror_mode": {
    "name": "ipython",
    "version": 3
   },
   "file_extension": ".py",
   "mimetype": "text/x-python",
   "name": "python",
   "nbconvert_exporter": "python",
   "pygments_lexer": "ipython3",
   "version": "3.7.6"
  }
 },
 "nbformat": 4,
 "nbformat_minor": 4
}
