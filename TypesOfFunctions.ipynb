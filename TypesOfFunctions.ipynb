{
 "cells": [
  {
   "cell_type": "markdown",
   "metadata": {},
   "source": [
    "number=-100\n",
    "print(abs(number))"
   ]
  },
  {
   "cell_type": "code",
   "execution_count": 2,
   "metadata": {},
   "outputs": [
    {
     "name": "stdout",
     "output_type": "stream",
     "text": [
      "100\n"
     ]
    }
   ],
   "source": [
    "number=-100\n",
    "print(abs(number))"
   ]
  },
  {
   "cell_type": "code",
   "execution_count": 3,
   "metadata": {},
   "outputs": [
    {
     "name": "stdout",
     "output_type": "stream",
     "text": [
      "True\n"
     ]
    }
   ],
   "source": [
    "mySet={10,20,30,40}\n",
    "print(all(mySet))"
   ]
  },
  {
   "cell_type": "code",
   "execution_count": 6,
   "metadata": {},
   "outputs": [
    {
     "name": "stdout",
     "output_type": "stream",
     "text": [
      "False\n"
     ]
    }
   ],
   "source": [
    "myTuple=(0,10,20,30)\n",
    "print(all(myTuple)) # it is false a 0 is considered as false by default"
   ]
  },
  {
   "cell_type": "code",
   "execution_count": 8,
   "metadata": {},
   "outputs": [
    {
     "name": "stdout",
     "output_type": "stream",
     "text": [
      "True\n"
     ]
    }
   ],
   "source": [
    "emptyList=[]\n",
    "print(all(emptyList))"
   ]
  },
  {
   "cell_type": "code",
   "execution_count": 9,
   "metadata": {},
   "outputs": [
    {
     "name": "stdout",
     "output_type": "stream",
     "text": [
      "False\n"
     ]
    }
   ],
   "source": [
    "myList = [False,1,2]\n",
    "print(all(myList)) #it is false as False is considered as fault by default along with 0"
   ]
  },
  {
   "cell_type": "code",
   "execution_count": 10,
   "metadata": {},
   "outputs": [
    {
     "name": "stdout",
     "output_type": "stream",
     "text": [
      "True\n"
     ]
    }
   ],
   "source": [
    "mySet={10,20,'santhosh',30,40}\n",
    "print(all(mySet))"
   ]
  },
  {
   "cell_type": "code",
   "execution_count": 11,
   "metadata": {},
   "outputs": [
    {
     "name": "stdout",
     "output_type": "stream",
     "text": [
      "['__add__', '__class__', '__contains__', '__delattr__', '__delitem__', '__dir__', '__doc__', '__eq__', '__format__', '__ge__', '__getattribute__', '__getitem__', '__gt__', '__hash__', '__iadd__', '__imul__', '__init__', '__init_subclass__', '__iter__', '__le__', '__len__', '__lt__', '__mul__', '__ne__', '__new__', '__reduce__', '__reduce_ex__', '__repr__', '__reversed__', '__rmul__', '__setattr__', '__setitem__', '__sizeof__', '__str__', '__subclasshook__', 'append', 'clear', 'copy', 'count', 'extend', 'index', 'insert', 'pop', 'remove', 'reverse', 'sort']\n"
     ]
    }
   ],
   "source": [
    "numbers=[1,2,3]\n",
    "print(dir(numbers)) #dir returns list of attributes for that element. Here as numbers is of type array, it'll return attributes of an array"
   ]
  },
  {
   "cell_type": "code",
   "execution_count": 12,
   "metadata": {},
   "outputs": [
    {
     "name": "stdout",
     "output_type": "stream",
     "text": [
      "(4, 1)\n"
     ]
    }
   ],
   "source": [
    "print(divmod(9,2)) #divmod will return the quotient and remainder of a division"
   ]
  },
  {
   "cell_type": "code",
   "execution_count": 13,
   "metadata": {},
   "outputs": [
    {
     "name": "stdout",
     "output_type": "stream",
     "text": [
      "Index 10 has value 1\n",
      "Index 11 has value 2\n",
      "Index 12 has value 3\n",
      "Index 13 has value 4\n"
     ]
    }
   ],
   "source": [
    "numbers=[1,2,3,4]\n",
    "\n",
    "for index, num in enumerate(numbers,10): #enumerate method adds counter to am iteratable data collection & returns it. It has 2 paramters, the iteratable and the startPosition\n",
    "    print('Index {} has value {}'.format(index,num)) #here the index starts from 10 as in the function 2nd parameter is given as 10"
   ]
  },
  {
   "cell_type": "code",
   "execution_count": 14,
   "metadata": {},
   "outputs": [],
   "source": [
    "def even_number(number):\n",
    "    \"\"\"\n",
    "    The function returns if a number is even \n",
    "    \"\"\"\n",
    "    if number%2==0:\n",
    "        return number"
   ]
  },
  {
   "cell_type": "code",
   "execution_count": 17,
   "metadata": {},
   "outputs": [
    {
     "name": "stdout",
     "output_type": "stream",
     "text": [
      "[2, 4, 6, 8, 10, 12, 14, 16, 18, 20, 22, 24, 26, 28, 30, 32, 34, 36, 38, 40, 42, 44, 46, 48]\n"
     ]
    }
   ],
   "source": [
    "#filter method\n",
    "numbers=range(50)\n",
    "\n",
    "evenNumbers=list(filter(even_number,numbers))\n",
    "print(evenNumbers)"
   ]
  },
  {
   "cell_type": "code",
   "execution_count": 23,
   "metadata": {},
   "outputs": [
    {
     "name": "stdout",
     "output_type": "stream",
     "text": [
      "True\n",
      "False\n",
      "True\n"
     ]
    }
   ],
   "source": [
    "#isinstance method\n",
    "mySet={'Same','not same',100,23}\n",
    "\n",
    "print(isinstance(mySet,set))#returns true as mySet is a set\n",
    "\n",
    "myDict={1:'santhosh',2:'Kumar'}\n",
    "print(isinstance(myDict,set))#this returns false as myDcit is dictionary and not set\n",
    "print(isinstance(myDict,dict))#returns true as myDict is dictionary"
   ]
  },
  {
   "cell_type": "code",
   "execution_count": 1,
   "metadata": {},
   "outputs": [
    {
     "name": "stdout",
     "output_type": "stream",
     "text": [
      "[5.0, 5.5, 6.0, 6.5, 7.0]\n"
     ]
    }
   ],
   "source": [
    "numbers=[10,11,12,13,14]\n",
    "\n",
    "half=[]                       #calculate half of numbers in the list\n",
    "for num in numbers:\n",
    "    half.append(num/2)\n",
    "\n",
    "print(half)"
   ]
  },
  {
   "cell_type": "code",
   "execution_count": 2,
   "metadata": {},
   "outputs": [
    {
     "name": "stdout",
     "output_type": "stream",
     "text": [
      "[5.0, 5.5, 6.0, 6.5, 7.0]\n"
     ]
    }
   ],
   "source": [
    "numbers=[10,11,12,13,14]\n",
    "\n",
    "def halfOfTheNumber(num):\n",
    "    return num/2\n",
    "\n",
    "halves=list(map(halfOfTheNumber,numbers))    #passing the calculation method to map() function\n",
    "print(halves)"
   ]
  },
  {
   "cell_type": "code",
   "execution_count": 3,
   "metadata": {},
   "outputs": [
    {
     "name": "stdout",
     "output_type": "stream",
     "text": [
      "10\n"
     ]
    }
   ],
   "source": [
    "numbers=[1,2,3,4]\n",
    "sumOfArray=0          #sum of numbers in a list\n",
    "\n",
    "for num in numbers:\n",
    "    sumOfArray=+=num\n",
    "\n",
    "print(sumOfArray=)"
   ]
  },
  {
   "cell_type": "code",
   "execution_count": 4,
   "metadata": {},
   "outputs": [
    {
     "name": "stdout",
     "output_type": "stream",
     "text": [
      "10\n"
     ]
    }
   ],
   "source": [
    "from functools import reduce\n",
    "\n",
    "numbers=[1,2,3,4]\n",
    "\n",
    "def sumOfNumbers(x,y):\n",
    "    return x+y\n",
    "\n",
    "sumOfAnArray=reduce(sumOfNumbers,numbers)\n",
    "print(sumOfAnArray)\n"
   ]
  },
  {
   "cell_type": "code",
   "execution_count": 5,
   "metadata": {},
   "outputs": [
    {
     "name": "stdout",
     "output_type": "stream",
     "text": [
      "Sum of 10 and 20 is 30\n"
     ]
    }
   ],
   "source": [
    "def SumOfNumbers(num1,num2):\n",
    "    \"\"\"\n",
    "    This function returns the sum of 2 numbers\n",
    "    \"\"\"\n",
    "    sumVal=num1+num2\n",
    "    return sumVal\n",
    "\n",
    "Val1=10\n",
    "Val2=20\n",
    "\n",
    "print(\"Sum of {0} and {1} is {2}\".format(Val1,Val2,SumOfNumbers(Val1,Val2)))"
   ]
  },
  {
   "cell_type": "code",
   "execution_count": 11,
   "metadata": {},
   "outputs": [
    {
     "name": "stdout",
     "output_type": "stream",
     "text": [
      "Select an option\n",
      "1.Addition\n",
      "2.Substraction\n",
      "3.Multiplication\n",
      "4.Division\n",
      "Enter the operation to be performed by providing values between 1-4:5\n",
      "Enter the first number:1\n",
      "Enter the second number:2\n",
      "Invalid Choice\n"
     ]
    }
   ],
   "source": [
    "#Python program to add, subtract, multiply and divide\n",
    "\n",
    "def add(num1,num2):\n",
    "    return num1+num2\n",
    "\n",
    "def substract(num1,num2):\n",
    "    return num1-num2\n",
    "\n",
    "def multiply(num1,num2):\n",
    "    return num1*num2\n",
    "\n",
    "def division(num1,num2):\n",
    "    return num1/num2\n",
    "\n",
    "\n",
    "print(\"Select an option\")\n",
    "print(\"1.Addition\")\n",
    "print(\"2.Substraction\")\n",
    "print(\"3.Multiplication\")\n",
    "print(\"4.Division\")\n",
    "\n",
    "choice=int(input(\"Enter the operation to be performed by providing values between 1-4:\"))\n",
    "\n",
    "Val1=float(input(\"Enter the first number:\"))\n",
    "Val2=float(input(\"Enter the second number:\"))\n",
    "\n",
    "if choice==1:\n",
    "    print(\"Sum of {} and {} is {}\".format(Val1,Val2,add(Val1,Val2)))\n",
    "elif choice==2:\n",
    "    print(\"Balance after doing {} minus {} is {}\".format(Val1,Val2,substract(Val1,Val2)))\n",
    "elif choice==3:\n",
    "    print(\"Product of {} and {} is {}\".format(Val1,Val2,multiply(Val1,Val2)))\n",
    "elif choice==4:\n",
    "    print(\"Balance after dividing {} by {} is {}\".format(Val1,Val2,division(Val1,Val2)))\n",
    "else:\n",
    "    print(\"Invalid Choice\")"
   ]
  }
 ],
 "metadata": {
  "kernelspec": {
   "display_name": "Python 3",
   "language": "python",
   "name": "python3"
  },
  "language_info": {
   "codemirror_mode": {
    "name": "ipython",
    "version": 3
   },
   "file_extension": ".py",
   "mimetype": "text/x-python",
   "name": "python",
   "nbconvert_exporter": "python",
   "pygments_lexer": "ipython3",
   "version": "3.7.6"
  }
 },
 "nbformat": 4,
 "nbformat_minor": 4
}
