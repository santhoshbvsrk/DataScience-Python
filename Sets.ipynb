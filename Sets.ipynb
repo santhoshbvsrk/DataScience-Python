{
 "cells": [
  {
   "cell_type": "code",
   "execution_count": 4,
   "metadata": {},
   "outputs": [
    {
     "name": "stdout",
     "output_type": "stream",
     "text": [
      "{1, 2, 3, 4}\n",
      "<class 'set'>\n"
     ]
    }
   ],
   "source": [
    "\"\"\" sets are unordered collection of data, set is mutable so can always change. No duplicates in sets\n",
    "You can perform mathematical operations on sets.\"\"\"\n",
    "\n",
    "mySet={1,2,3,4,1} #set creation\n",
    "print(mySet)\n",
    "print(type(mySet)) #duplicates aren't allowed"
   ]
  },
  {
   "cell_type": "code",
   "execution_count": 5,
   "metadata": {},
   "outputs": [
    {
     "name": "stdout",
     "output_type": "stream",
     "text": [
      "<class 'set'>\n",
      "{12, 1233, 23, 56, 123}\n"
     ]
    }
   ],
   "source": [
    "myList=[12,23,123,12,1233,56]\n",
    "mySet=set(myList) #converting List to Set\n",
    "print(type(mySet))\n",
    "print(mySet) #removed duplicate elements from set"
   ]
  },
  {
   "cell_type": "code",
   "execution_count": 6,
   "metadata": {},
   "outputs": [
    {
     "name": "stdout",
     "output_type": "stream",
     "text": [
      "<class 'set'>\n"
     ]
    }
   ],
   "source": [
    "mySet =set() #empty set creation\n",
    "print(type(mySet))"
   ]
  },
  {
   "cell_type": "code",
   "execution_count": 12,
   "metadata": {},
   "outputs": [
    {
     "name": "stdout",
     "output_type": "stream",
     "text": [
      "Original Set set()\n",
      "Post adding element to Set {12}\n",
      "Post adding multiple elements {12, 'kumar', 'mini', 'puja', 'san'}\n"
     ]
    },
    {
     "ename": "TypeError",
     "evalue": "'set' object is not subscriptable",
     "output_type": "error",
     "traceback": [
      "\u001b[1;31m---------------------------------------------------------------------------\u001b[0m",
      "\u001b[1;31mTypeError\u001b[0m                                 Traceback (most recent call last)",
      "\u001b[1;32m<ipython-input-12-0994afd6bbfb>\u001b[0m in \u001b[0;36m<module>\u001b[1;34m\u001b[0m\n\u001b[0;32m      8\u001b[0m \u001b[0mmySet\u001b[0m\u001b[1;33m.\u001b[0m\u001b[0mupdate\u001b[0m\u001b[1;33m(\u001b[0m\u001b[1;33m[\u001b[0m\u001b[1;34m'san'\u001b[0m\u001b[1;33m,\u001b[0m\u001b[1;34m'kumar'\u001b[0m\u001b[1;33m,\u001b[0m\u001b[1;34m'puja'\u001b[0m\u001b[1;33m,\u001b[0m\u001b[1;34m'mini'\u001b[0m\u001b[1;33m]\u001b[0m\u001b[1;33m)\u001b[0m\u001b[1;33m\u001b[0m\u001b[1;33m\u001b[0m\u001b[0m\n\u001b[0;32m      9\u001b[0m \u001b[0mprint\u001b[0m\u001b[1;33m(\u001b[0m\u001b[1;34m'Post adding multiple elements'\u001b[0m\u001b[1;33m,\u001b[0m \u001b[0mmySet\u001b[0m\u001b[1;33m)\u001b[0m\u001b[1;33m\u001b[0m\u001b[1;33m\u001b[0m\u001b[0m\n\u001b[1;32m---> 10\u001b[1;33m \u001b[0mprint\u001b[0m\u001b[1;33m(\u001b[0m\u001b[0mmySet\u001b[0m\u001b[1;33m[\u001b[0m\u001b[1;36m3\u001b[0m\u001b[1;33m]\u001b[0m\u001b[1;33m)\u001b[0m\u001b[1;33m\u001b[0m\u001b[1;33m\u001b[0m\u001b[0m\n\u001b[0m",
      "\u001b[1;31mTypeError\u001b[0m: 'set' object is not subscriptable"
     ]
    }
   ],
   "source": [
    "#add element to a set\n",
    "mySet =set()\n",
    "print('Original Set',mySet)\n",
    "mySet.add(12)\n",
    "print('Post adding element to Set',mySet)\n",
    "\n",
    "#add multiple elements to a set\n",
    "mySet.update(['san','kumar','puja','mini'])\n",
    "print('Post adding multiple elements', mySet)\n",
    "print(mySet[3])"
   ]
  },
  {
   "cell_type": "code",
   "execution_count": 15,
   "metadata": {},
   "outputs": [
    {
     "name": "stdout",
     "output_type": "stream",
     "text": [
      "{1, 4, 6, 12, 'kumar', 'mini', 'puja', 'san', 122}\n",
      "{32, 1, 4, 132, 6, 12, 'kumar', 'mini', 'puja', 'san', 122}\n"
     ]
    }
   ],
   "source": [
    "#adding a list to a set\n",
    "print(mySet)\n",
    "mySet.update([132,32,122],(4,1,6))\n",
    "print(mySet)"
   ]
  },
  {
   "cell_type": "code",
   "execution_count": 24,
   "metadata": {},
   "outputs": [
    {
     "name": "stdout",
     "output_type": "stream",
     "text": [
      "{11, 12, 13, 14, 15, 16, 17}\n",
      "{11, 12, 14, 15, 16, 17}\n",
      "{11, 12, 15, 16, 17}\n",
      "{12, 15, 16, 17}\n"
     ]
    }
   ],
   "source": [
    "#remove element from a set\n",
    "mySet={11,12,13,14,15,16,17}\n",
    "print(mySet)\n",
    "\n",
    "mySet.remove(13) #removing element 13 frm set, this raises error if element not present in set\n",
    "print(mySet)\n",
    "\n",
    "mySet.discard(14) #this will not raise any error if element is not present in set\n",
    "print(mySet)\n",
    "\n",
    "mySet.pop()\n",
    "print(mySet) #pop removes a random element in the set"
   ]
  },
  {
   "cell_type": "code",
   "execution_count": 21,
   "metadata": {},
   "outputs": [
    {
     "ename": "KeyError",
     "evalue": "13",
     "output_type": "error",
     "traceback": [
      "\u001b[1;31m---------------------------------------------------------------------------\u001b[0m",
      "\u001b[1;31mKeyError\u001b[0m                                  Traceback (most recent call last)",
      "\u001b[1;32m<ipython-input-21-9ebc20608a2f>\u001b[0m in \u001b[0;36m<module>\u001b[1;34m\u001b[0m\n\u001b[0;32m      1\u001b[0m \u001b[1;31m#keyword error while removing\u001b[0m\u001b[1;33m\u001b[0m\u001b[1;33m\u001b[0m\u001b[1;33m\u001b[0m\u001b[0m\n\u001b[1;32m----> 2\u001b[1;33m \u001b[0mmySet\u001b[0m\u001b[1;33m.\u001b[0m\u001b[0mremove\u001b[0m\u001b[1;33m(\u001b[0m\u001b[1;36m13\u001b[0m\u001b[1;33m)\u001b[0m\u001b[1;33m\u001b[0m\u001b[1;33m\u001b[0m\u001b[0m\n\u001b[0m",
      "\u001b[1;31mKeyError\u001b[0m: 13"
     ]
    }
   ],
   "source": [
    "#keyword error while removing\n",
    "mySet.remove(13)"
   ]
  },
  {
   "cell_type": "code",
   "execution_count": 38,
   "metadata": {},
   "outputs": [
    {
     "name": "stdout",
     "output_type": "stream",
     "text": [
      "{11, 12, 14, 15, 16, 17}\n",
      "{12, 14, 15, 16, 17}\n"
     ]
    }
   ],
   "source": [
    "mySet={11,12,13,14,15,16,17}\n",
    "mySet.discard(13) #discard, will not throw an error even if item is not present in set\n",
    "print(mySet)\n",
    "mySet.pop()\n",
    "print(mySet)"
   ]
  },
  {
   "cell_type": "code",
   "execution_count": 39,
   "metadata": {},
   "outputs": [
    {
     "name": "stdout",
     "output_type": "stream",
     "text": [
      "set()\n"
     ]
    }
   ],
   "source": [
    "mySet.clear() #this will clear the values inside set's memory but will not clear away the memory\n",
    "print(mySet)"
   ]
  },
  {
   "cell_type": "code",
   "execution_count": 50,
   "metadata": {},
   "outputs": [
    {
     "name": "stdout",
     "output_type": "stream",
     "text": [
      "{1, 2, 3, 4, 5, 6, 7}\n",
      "{1, 2, 3, 4, 5, 6, 7}\n",
      "{3, 4, 5}\n",
      "{3, 4, 5}\n",
      "{1, 2}\n",
      "{1, 2}\n",
      "{6, 7}\n",
      "{6, 7}\n",
      "{1, 2, 6, 7}\n",
      "{1, 2, 6, 7}\n"
     ]
    }
   ],
   "source": [
    "#Python Set operations\n",
    "mySet1={1,2,3,4,5}\n",
    "mySet2={3,4,5,6,7}\n",
    "\n",
    "print(mySet1 | mySet2) #union \n",
    "print(mySet1.union(mySet2)) #union \n",
    "\n",
    "print(mySet1 & mySet2) #intersection\n",
    "print(mySet1.intersection(mySet2))  #intersection\n",
    "\n",
    "print(mySet1 - mySet2) #difference i.e., set1-set2\n",
    "print(mySet1.difference(mySet2)) #difference i.e., set1-set2\n",
    "print(mySet2 - mySet1) #difference i.e., set2-set1\n",
    "print(mySet2.difference(mySet1)) #difference i.e., set2-set1\n",
    "\n",
    "print(mySet1 ^ mySet2) #symmetric difference i.e., will remove the common elements between both the sets\n",
    "print(mySet1.symmetric_difference(mySet2))"
   ]
  },
  {
   "cell_type": "code",
   "execution_count": 55,
   "metadata": {},
   "outputs": [
    {
     "name": "stdout",
     "output_type": "stream",
     "text": [
      "Is 'a' a subset of b ? False\n",
      "Is 'b' a subset of a ? True\n"
     ]
    }
   ],
   "source": [
    "#subset\n",
    "a={1,2,3,4,5,6,7}\n",
    "b={3,4}\n",
    "\n",
    "print(\"Is 'a' a subset of b ?\", a.issubset(b))\n",
    "print(\"Is 'b' a subset of a ?\", b.issubset(a))"
   ]
  },
  {
   "cell_type": "code",
   "execution_count": 56,
   "metadata": {},
   "outputs": [
    {
     "ename": "AttributeError",
     "evalue": "'frozenset' object has no attribute 'add'",
     "output_type": "error",
     "traceback": [
      "\u001b[1;31m---------------------------------------------------------------------------\u001b[0m",
      "\u001b[1;31mAttributeError\u001b[0m                            Traceback (most recent call last)",
      "\u001b[1;32m<ipython-input-56-71b2f4aa5cef>\u001b[0m in \u001b[0;36m<module>\u001b[1;34m\u001b[0m\n\u001b[0;32m      4\u001b[0m \u001b[1;33m\u001b[0m\u001b[0m\n\u001b[0;32m      5\u001b[0m \u001b[1;33m\u001b[0m\u001b[0m\n\u001b[1;32m----> 6\u001b[1;33m \u001b[0mmySet1\u001b[0m\u001b[1;33m.\u001b[0m\u001b[0madd\u001b[0m\u001b[1;33m(\u001b[0m\u001b[1;36m1\u001b[0m\u001b[1;33m)\u001b[0m\u001b[1;33m\u001b[0m\u001b[1;33m\u001b[0m\u001b[0m\n\u001b[0m",
      "\u001b[1;31mAttributeError\u001b[0m: 'frozenset' object has no attribute 'add'"
     ]
    }
   ],
   "source": [
    "#Frozen sets are immutable form of sets i.e., you can't alter them\n",
    "mySet1=frozenset([1,2,3,4,5])\n",
    "mySet2=frozenset([4,5,6,7,8])\n",
    "\n",
    "\n",
    "mySet1.add(1) #this will throw error as you can't alter frozen set"
   ]
  },
  {
   "cell_type": "code",
   "execution_count": 57,
   "metadata": {},
   "outputs": [
    {
     "ename": "TypeError",
     "evalue": "'frozenset' object is not subscriptable",
     "output_type": "error",
     "traceback": [
      "\u001b[1;31m---------------------------------------------------------------------------\u001b[0m",
      "\u001b[1;31mTypeError\u001b[0m                                 Traceback (most recent call last)",
      "\u001b[1;32m<ipython-input-57-62652df104d7>\u001b[0m in \u001b[0;36m<module>\u001b[1;34m\u001b[0m\n\u001b[1;32m----> 1\u001b[1;33m \u001b[0mprint\u001b[0m\u001b[1;33m(\u001b[0m\u001b[0mmySet1\u001b[0m\u001b[1;33m[\u001b[0m\u001b[1;36m4\u001b[0m\u001b[1;33m]\u001b[0m\u001b[1;33m)\u001b[0m \u001b[1;31m#frozen set doesn't support indexing as ordering is not done\u001b[0m\u001b[1;33m\u001b[0m\u001b[1;33m\u001b[0m\u001b[0m\n\u001b[0m",
      "\u001b[1;31mTypeError\u001b[0m: 'frozenset' object is not subscriptable"
     ]
    }
   ],
   "source": [
    "print(mySet1[4]) #frozen set doesn't support indexing as ordering is not done"
   ]
  },
  {
   "cell_type": "code",
   "execution_count": 65,
   "metadata": {},
   "outputs": [
    {
     "name": "stdout",
     "output_type": "stream",
     "text": [
      "frozenset({1, 2, 3, 4, 5, 6, 7, 8})\n",
      "frozenset({1, 2, 3, 4, 5, 6, 7, 8})\n",
      "frozenset({4, 5})\n",
      "frozenset({4, 5})\n",
      "frozenset({1, 2, 3})\n",
      "frozenset({1, 2, 3})\n",
      "frozenset({1, 2, 3, 6, 7, 8})\n",
      "frozenset({1, 2, 3, 6, 7, 8})\n"
     ]
    }
   ],
   "source": [
    "print(mySet1 | mySet2) #union\n",
    "print(mySet1.union(mySet2))\n",
    "\n",
    "print(mySet1 & mySet2) #intersection\n",
    "print(mySet1.intersection(mySet2))\n",
    "\n",
    "print(mySet1 - mySet2) #Set1-set2\n",
    "print(mySet1.difference(mySet2))\n",
    "\n",
    "print(mySet1 ^ mySet2) #difference symmetric\n",
    "print(mySet1.symmetric_difference(mySet2))"
   ]
  }
 ],
 "metadata": {
  "kernelspec": {
   "display_name": "Python 3",
   "language": "python",
   "name": "python3"
  },
  "language_info": {
   "codemirror_mode": {
    "name": "ipython",
    "version": 3
   },
   "file_extension": ".py",
   "mimetype": "text/x-python",
   "name": "python",
   "nbconvert_exporter": "python",
   "pygments_lexer": "ipython3",
   "version": "3.7.6"
  }
 },
 "nbformat": 4,
 "nbformat_minor": 4
}
