{
 "cells": [
  {
   "cell_type": "code",
   "execution_count": 25,
   "metadata": {},
   "outputs": [
    {
     "name": "stdout",
     "output_type": "stream",
     "text": [
      "[1, 2, 3, 'a', 'b', 3, 2, 'c', 4.3, (1+2j), [1, 2, 3, 4, 5], ['santhosh', 'kumar', 'puja', 'mini']]\n",
      "12\n"
     ]
    }
   ],
   "source": [
    "listOfStrings=['santhosh','kumar','puja','mini'] #listOfStrings\n",
    "listOfintegers=[1,2,3,4,5]   #listOfintegers\n",
    "listOfLists=[[2,4,5,3],listOfStrings] #listOfLists\n",
    "listOfMixedTypes=[1,2,3,'a','b',3,2,'c',4.3,1+2j,listOfintegers,listOfStrings] #listOfMixedTypes\n",
    "print(listOfMixedTypes)\n",
    "print(len(listOfMixedTypes)) #length of list"
   ]
  },
  {
   "cell_type": "code",
   "execution_count": 4,
   "metadata": {},
   "outputs": [
    {
     "name": "stdout",
     "output_type": "stream",
     "text": [
      "[1, 2, 3, 4, 5, 34]\n"
     ]
    }
   ],
   "source": [
    "#append elements to a list at the end\n",
    "listOfintegers.append(34)\n",
    "print(listOfintegers)"
   ]
  },
  {
   "cell_type": "code",
   "execution_count": 6,
   "metadata": {},
   "outputs": [
    {
     "name": "stdout",
     "output_type": "stream",
     "text": [
      "[1, 2, 59, 3, 4, 5, 34]\n"
     ]
    }
   ],
   "source": [
    "#append elements to a list at a specific position\n",
    "listOfintegers.insert(2,59)\n",
    "print(listOfintegers)"
   ]
  },
  {
   "cell_type": "code",
   "execution_count": 7,
   "metadata": {},
   "outputs": [
    {
     "name": "stdout",
     "output_type": "stream",
     "text": [
      "[1, 2, 59, 3, 4, 5]\n"
     ]
    }
   ],
   "source": [
    "#Remove element from a list\n",
    "listOfintegers.remove(34)\n",
    "print(listOfintegers)"
   ]
  },
  {
   "cell_type": "code",
   "execution_count": 18,
   "metadata": {},
   "outputs": [
    {
     "name": "stdout",
     "output_type": "stream",
     "text": [
      "['santhosh', 'kumar', 'puja', 'mini', [1, 2, 3, 4, 5]]\n"
     ]
    }
   ],
   "source": [
    "#Appending of list to a list\n",
    "listOfStrings.append(listOfintegers)\n",
    "print(listOfStrings)"
   ]
  },
  {
   "cell_type": "code",
   "execution_count": 19,
   "metadata": {},
   "outputs": [
    {
     "name": "stdout",
     "output_type": "stream",
     "text": [
      "['santhosh', 'kumar', 'puja', 'mini', [1, 2, 3, 4, 5], 1, 2, 3, 4, 5]\n"
     ]
    }
   ],
   "source": [
    "#Extending list-- this means it'll add contents of another list to the current list rather than appending list to another list\n",
    "listOfStrings.extend(listOfintegers)\n",
    "print(listOfStrings)"
   ]
  },
  {
   "cell_type": "code",
   "execution_count": 16,
   "metadata": {},
   "outputs": [
    {
     "name": "stdout",
     "output_type": "stream",
     "text": [
      "['santhosh', 1, 2, 59, 3, 4, 5]\n",
      "1\n",
      "['santhosh', 2, 59, 3, 4, 5]\n"
     ]
    }
   ],
   "source": [
    "#delete elements from list\n",
    "#del listOfStrings[2] #using del keyword\n",
    "#del listOfStrings[1:3] #delete in a specific range i.e., slicing\n",
    "\n",
    "print(listOfStrings)\n",
    "\n",
    "ItemsDeleted= listOfStrings.pop(1) #Pop function not only deletes, but also displays what is the element it is deleting\n",
    "print(ItemsDeleted)\n",
    "print(listOfStrings)"
   ]
  },
  {
   "cell_type": "code",
   "execution_count": 23,
   "metadata": {},
   "outputs": [
    {
     "name": "stdout",
     "output_type": "stream",
     "text": [
      "[1, 2, 3, 'a', 'b', 3, 2, 'c', 4.3, (1+2j), [1, 2, 3, 4, 5]]\n",
      "[1, 2, 3, 'a', 'b', 3, 2, 'c', 4.3, [1, 2, 3, 4, 5]]\n"
     ]
    }
   ],
   "source": [
    "print(listOfMixedTypes)\n",
    "listOfMixedTypes.remove((1+2j))\n",
    "print(listOfMixedTypes)"
   ]
  },
  {
   "cell_type": "code",
   "execution_count": 33,
   "metadata": {},
   "outputs": [
    {
     "name": "stdout",
     "output_type": "stream",
     "text": [
      "Element a is present in listOfMixedTypes\n",
      "Element san is not present in listOfMixedTypes\n"
     ]
    }
   ],
   "source": [
    "#Membership,used to check if a particular element exists or not in the list\n",
    "if 'a' in listOfMixedTypes:\n",
    "    print('Element {} is present in listOfMixedTypes'.format('a'))\n",
    "if 'san' not in listOfMixedTypes:\n",
    "    print('Element {} is not present in listOfMixedTypes'.format('san'))"
   ]
  },
  {
   "cell_type": "code",
   "execution_count": 35,
   "metadata": {},
   "outputs": [
    {
     "name": "stdout",
     "output_type": "stream",
     "text": [
      "[1, 2, 3, 'a', 'b', 3, 2, 'c', 4.3, (1+2j), [1, 2, 3, 4, 5], ['santhosh', 'kumar', 'puja', 'mini']]\n",
      "[['santhosh', 'kumar', 'puja', 'mini'], [1, 2, 3, 4, 5], (1+2j), 4.3, 'c', 2, 3, 'b', 'a', 3, 2, 1]\n"
     ]
    }
   ],
   "source": [
    "#reversing of elements in list\n",
    "print(listOfMixedTypes)\n",
    "listOfMixedTypes.reverse()\n",
    "print(listOfMixedTypes)"
   ]
  },
  {
   "cell_type": "code",
   "execution_count": 41,
   "metadata": {},
   "outputs": [
    {
     "name": "stdout",
     "output_type": "stream",
     "text": [
      "[98, 4, 2, 67, 43, 56, 3]\n",
      "[3, 56, 43, 67, 2, 4, 98]\n",
      "[2, 3, 4, 43, 56, 67, 98]\n"
     ]
    }
   ],
   "source": [
    "#sorting of elements in list and is to be used on numbers---this impacts the original list\n",
    "listOfintegers=[98,4,2,67,43,56,3]\n",
    "print(listOfintegers)\n",
    "listOfintegers.reverse()\n",
    "print(listOfintegers)\n",
    "listOfintegers.sort()\n",
    "print(listOfintegers)"
   ]
  },
  {
   "cell_type": "code",
   "execution_count": 42,
   "metadata": {},
   "outputs": [
    {
     "name": "stdout",
     "output_type": "stream",
     "text": [
      "Original List: [98, 4, 2, 67, 43, 56, 3]\n",
      "Reverse Sorted List: [98, 67, 56, 43, 4, 3, 2]\n"
     ]
    }
   ],
   "source": [
    "#when you want to sort list without the original one getting effected then use sorted\n",
    "listOfintegers=[98,4,2,67,43,56,3]\n",
    "print('Original List:',listOfintegers)\n",
    "print('Reverse Sorted List:',sorted(listOfintegers,reverse=True))"
   ]
  },
  {
   "cell_type": "code",
   "execution_count": 43,
   "metadata": {},
   "outputs": [
    {
     "name": "stdout",
     "output_type": "stream",
     "text": [
      "The Original List: [98, 4, 2, 67, 43, 56, 3, 5]\n"
     ]
    }
   ],
   "source": [
    "#Multiple references to a list\n",
    "listOfintegers=[98,4,2,67,43,56,3]\n",
    "newRef=listOfintegers\n",
    "newRef.append(5)\n",
    "print('The Original List:',listOfintegers) # Here it appended to the original list because reference created i.e., newRef is pointing to the same memory area of the Original List"
   ]
  },
  {
   "cell_type": "code",
   "execution_count": 44,
   "metadata": {},
   "outputs": [
    {
     "name": "stdout",
     "output_type": "stream",
     "text": [
      "Split List is: ['apple', 'banana', 'grapes']\n"
     ]
    }
   ],
   "source": [
    "#Split a string to create list\n",
    "myString=\"apple,banana,grapes\"\n",
    "splitList=myString.split(',')\n",
    "print('Split List is:',splitList)"
   ]
  },
  {
   "cell_type": "code",
   "execution_count": 45,
   "metadata": {},
   "outputs": [
    {
     "name": "stdout",
     "output_type": "stream",
     "text": [
      "['Let', 'us', 'split', 'this', 'string']\n"
     ]
    }
   ],
   "source": [
    "#for splitting a string to list, if you don't give the parameter on which it has to split, it'll consider space as parameter\n",
    "myString=\"Let us split this string\"\n",
    "splitList=myString.split()\n",
    "print(splitList)"
   ]
  },
  {
   "cell_type": "code",
   "execution_count": 47,
   "metadata": {},
   "outputs": [
    {
     "name": "stdout",
     "output_type": "stream",
     "text": [
      "29\n",
      "12\n"
     ]
    }
   ],
   "source": [
    "#Indexing in list\n",
    "myList=[29,12,4,17,12]\n",
    "\n",
    "print(myList[0])  #Access first element\n",
    "print(myList[-1]) #Negative indexing, this will fetch from last"
   ]
  },
  {
   "cell_type": "code",
   "execution_count": 51,
   "metadata": {},
   "outputs": [
    {
     "name": "stdout",
     "output_type": "stream",
     "text": [
      "[43, 2, 'Hundred', 13, 'Four', 12, 100]\n",
      "[43, 2, 'Hundred']\n"
     ]
    }
   ],
   "source": [
    "#List slicing\n",
    "listOfItems =[43,2,'Hundred',13,'Four',12,100]\n",
    "print(listOfItems[:])#Empty indicates start : to end\n",
    "print(listOfItems[0:3]) #Elements from index 0 to one less than index 3"
   ]
  },
  {
   "cell_type": "code",
   "execution_count": 53,
   "metadata": {},
   "outputs": [
    {
     "name": "stdout",
     "output_type": "stream",
     "text": [
      "[43, 2, 'Hundred', 13, 'Four', 12, 100]\n",
      "[43, 'Hundred', 'Four', 100]\n"
     ]
    }
   ],
   "source": [
    "#Skipping between elements in the list\n",
    "print(listOfItems)\n",
    "print(listOfItems[::2]) #the value after 2nd : is called stride which will help in skipping, here it'll skip 2,4,6,8,10,..\n"
   ]
  },
  {
   "cell_type": "code",
   "execution_count": 54,
   "metadata": {},
   "outputs": [
    {
     "name": "stdout",
     "output_type": "stream",
     "text": [
      "[43, 2, 'Hundred', 13, 'Four', 12, 100, 'Hello', 19, 'One', 11]\n"
     ]
    }
   ],
   "source": [
    "#Extend a list using \"+\"\n",
    "listOfItems1 =[43,2,'Hundred',13,'Four',12,100]\n",
    "listOfItems2 =['Hello',19,'One',11]\n",
    "joinedList=listOfItems1+listOfItems2\n",
    "print(joinedList)"
   ]
  },
  {
   "cell_type": "code",
   "execution_count": 56,
   "metadata": {},
   "outputs": [
    {
     "name": "stdout",
     "output_type": "stream",
     "text": [
      "2\n"
     ]
    }
   ],
   "source": [
    "#Count an item in a list\n",
    "listOfItems3 =[12,43,2,'Hundred',13,'Four',12,100,'Four']\n",
    "print(listOfItems3.count('Four'))"
   ]
  },
  {
   "cell_type": "code",
   "execution_count": 57,
   "metadata": {},
   "outputs": [
    {
     "name": "stdout",
     "output_type": "stream",
     "text": [
      "12\n",
      "43\n",
      "2\n",
      "Hundred\n",
      "13\n",
      "Four\n",
      "12\n",
      "100\n",
      "Four\n"
     ]
    }
   ],
   "source": [
    "#Loop through a list aka traverse through a list\n",
    "listOfItems3 =[12,43,2,'Hundred',13,'Four',12,100,'Four']\n",
    "for i in listOfItems3:\n",
    "    print(i)"
   ]
  },
  {
   "cell_type": "code",
   "execution_count": 58,
   "metadata": {},
   "outputs": [
    {
     "name": "stdout",
     "output_type": "stream",
     "text": [
      "[0, 1, 4, 9]\n"
     ]
    }
   ],
   "source": [
    "myList=[]\n",
    "for i in range(4):\n",
    "    myList.append(i**2)\n",
    "print(myList)\n"
   ]
  },
  {
   "cell_type": "code",
   "execution_count": 61,
   "metadata": {},
   "outputs": [
    {
     "name": "stdout",
     "output_type": "stream",
     "text": [
      "[0, 1, 4, 9]\n"
     ]
    }
   ],
   "source": [
    "#The above can be done using list comprehension\n",
    "myList= [i**2 for i in range(4)]\n",
    "print(myList)"
   ]
  },
  {
   "cell_type": "code",
   "execution_count": 63,
   "metadata": {},
   "outputs": [
    {
     "name": "stdout",
     "output_type": "stream",
     "text": [
      "[[0, 1, 2], [0, 1, 2], [0, 1, 2], [0, 1, 2]]\n"
     ]
    }
   ],
   "source": [
    "matrix= [[0,1,2],\n",
    "         [0,1,2],\n",
    "         [0,1,2],\n",
    "         [0,1,2]]\n",
    "#Recreate above matrix in normal way\n",
    "sameList=[]\n",
    "for i in range(4):\n",
    "    rowList=[]\n",
    "    for j in range(3):\n",
    "        rowList.append(j)\n",
    "    sameList.append(rowList)\n",
    "print(sameList)"
   ]
  },
  {
   "cell_type": "code",
   "execution_count": 67,
   "metadata": {},
   "outputs": [
    {
     "name": "stdout",
     "output_type": "stream",
     "text": [
      "[[0, 1, 2], [0, 1, 2], [0, 1, 2], [0, 1, 2]]\n"
     ]
    }
   ],
   "source": [
    "matrix= [[0,1,2],\n",
    "         [0,1,2],\n",
    "         [0,1,2],\n",
    "         [0,1,2]]\n",
    "#Recreate above matrix using list comprehension\n",
    "myMatrix=[]\n",
    "\n",
    "[myMatrix.append([j for j in range(3)]) for i in range(4)]\n",
    "print(myMatrix)    "
   ]
  },
  {
   "cell_type": "code",
   "execution_count": 27,
   "metadata": {},
   "outputs": [
    {
     "name": "stdout",
     "output_type": "stream",
     "text": [
      "MyList1 data:  [1, 4, 9, 16, 25, 36, 64]\n",
      "MyList2 data:  [4, 6, 8]\n",
      "MyList3 data: [4, 6, 8]\n",
      "[[0.5, 1.0, 1.5], [2.0, 2.5, 3.0], [3.5, 4.0, 4.5]]\n"
     ]
    }
   ],
   "source": [
    "myList= [1,2,3,4,5,6,8]\n",
    "\n",
    "#square the values of my list and store in a new list\n",
    "myList1=[i**2 for i in myList]\n",
    "print(\"MyList1 data: \",myList1)\n",
    "\n",
    "#make a combination of x and x values e.g. (x,x)\n",
    "newList2=[(i,i) for i in myList]\n",
    "print(\"MyList2 data: \",myList2)\n",
    "\n",
    "#store only even numbers greater than 2\n",
    "myList3=[(i) for i in myList if i>2 and i%2==0]\n",
    "print(\"MyList3 data:\",myList3)\n",
    "\n",
    "#create a 3*3 matrix that stores half of number from 1 to 9\n",
    "myMatrix1=[]\n",
    "[myMatrix1.append([(i+j)/2 for j in range(0,3)]) for i in range(1,10,3)]\n",
    "print(myMatrix1)"
   ]
  }
 ],
 "metadata": {
  "kernelspec": {
   "display_name": "Python 3",
   "language": "python",
   "name": "python3"
  },
  "language_info": {
   "codemirror_mode": {
    "name": "ipython",
    "version": 3
   },
   "file_extension": ".py",
   "mimetype": "text/x-python",
   "name": "python",
   "nbconvert_exporter": "python",
   "pygments_lexer": "ipython3",
   "version": "3.7.6"
  }
 },
 "nbformat": 4,
 "nbformat_minor": 4
}
