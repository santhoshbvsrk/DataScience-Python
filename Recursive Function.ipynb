{
 "cells": [
  {
   "cell_type": "code",
   "execution_count": null,
   "metadata": {},
   "outputs": [],
   "source": [
    "\"\"\"\n",
    "Recursive Function\n",
    "=====================\n",
    "A function which calls itself is recursive function, but we've to mention where it should \n",
    "stop else it'll go into infinite loop\n",
    "\"\"\""
   ]
  },
  {
   "cell_type": "code",
   "execution_count": 6,
   "metadata": {},
   "outputs": [
    {
     "name": "stdout",
     "output_type": "stream",
     "text": [
      "Factorial of 5 is: 120\n"
     ]
    }
   ],
   "source": [
    "def factorial(num):\n",
    "    #function to call factorial of a number\n",
    "    return 1 if num==1 else (num*factorial(num-1)) #factorial of 5 i.e., 5*factorial(5-1),5*4*factorial(4-1),etc., like that till num =1\n",
    "\n",
    "number=5\n",
    "print('Factorial of {} is: {}'.format(number,factorial(number)))"
   ]
  },
  {
   "cell_type": "code",
   "execution_count": 12,
   "metadata": {},
   "outputs": [
    {
     "name": "stdout",
     "output_type": "stream",
     "text": [
      "the fibonacci is as follows\n",
      "0\n",
      "1\n",
      "1\n",
      "2\n",
      "3\n",
      "5\n",
      "8\n",
      "13\n",
      "21\n",
      "34\n"
     ]
    }
   ],
   "source": [
    "#Fibonacci series using recursive function\n",
    "def fibonacci(num):\n",
    "    \"\"\"\n",
    "    function to calculate fibonacci series of a number\n",
    "    \"\"\"\n",
    "    return num if num<=1 else fibonacci(num-1)+fibonacci(num-2)\n",
    "\n",
    "nterm=10\n",
    "print(\"the fibonacci is as follows\")\n",
    "for num in range(nterm):\n",
    "    print(fibonacci(num))"
   ]
  },
  {
   "cell_type": "code",
   "execution_count": null,
   "metadata": {},
   "outputs": [],
   "source": [
    "#Function to find if a string is pallindrome or not\n",
    "def pallindrome(name):\n",
    "    \"\"\"\n",
    "    Recursive Function to check if a string is pallindrome or not\n",
    "    \"\"\"\n",
    "    return name"
   ]
  }
 ],
 "metadata": {
  "kernelspec": {
   "display_name": "Python 3",
   "language": "python",
   "name": "python3"
  },
  "language_info": {
   "codemirror_mode": {
    "name": "ipython",
    "version": 3
   },
   "file_extension": ".py",
   "mimetype": "text/x-python",
   "name": "python",
   "nbconvert_exporter": "python",
   "pygments_lexer": "ipython3",
   "version": "3.7.6"
  }
 },
 "nbformat": 4,
 "nbformat_minor": 4
}
