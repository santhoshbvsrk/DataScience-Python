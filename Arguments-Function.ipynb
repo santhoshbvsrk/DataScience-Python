{
 "cells": [
  {
   "cell_type": "code",
   "execution_count": 3,
   "metadata": {},
   "outputs": [
    {
     "name": "stdout",
     "output_type": "stream",
     "text": [
      "Hello Santhosh, Welcome to the world of Python\n"
     ]
    }
   ],
   "source": [
    "def hello(name,msg):\n",
    "    \"\"\"\n",
    "    This function prints a message for a person\n",
    "    \"\"\"\n",
    "    print(\"Hello {}, {}\".format(name,msg))\n",
    "\n",
    "hello('Santhosh','Welcome to the world of Python')"
   ]
  },
  {
   "cell_type": "code",
   "execution_count": 9,
   "metadata": {},
   "outputs": [
    {
     "ename": "TypeError",
     "evalue": "hello() missing 1 required positional argument: 'msg'",
     "output_type": "error",
     "traceback": [
      "\u001b[1;31m---------------------------------------------------------------------------\u001b[0m",
      "\u001b[1;31mTypeError\u001b[0m                                 Traceback (most recent call last)",
      "\u001b[1;32m<ipython-input-9-84a22b78503e>\u001b[0m in \u001b[0;36m<module>\u001b[1;34m\u001b[0m\n\u001b[0;32m      1\u001b[0m \u001b[1;31m#what happens if you forget  an argument\u001b[0m\u001b[1;33m\u001b[0m\u001b[1;33m\u001b[0m\u001b[1;33m\u001b[0m\u001b[0m\n\u001b[1;32m----> 2\u001b[1;33m \u001b[0mhello\u001b[0m\u001b[1;33m(\u001b[0m\u001b[1;34m'Santhosh'\u001b[0m\u001b[1;33m)\u001b[0m\u001b[1;33m\u001b[0m\u001b[1;33m\u001b[0m\u001b[0m\n\u001b[0m\u001b[0;32m      3\u001b[0m \u001b[0mhello\u001b[0m\u001b[1;33m(\u001b[0m\u001b[1;34m'Santhosh'\u001b[0m\u001b[1;33m,\u001b[0m\u001b[1;33m)\u001b[0m\u001b[1;33m\u001b[0m\u001b[1;33m\u001b[0m\u001b[0m\n",
      "\u001b[1;31mTypeError\u001b[0m: hello() missing 1 required positional argument: 'msg'"
     ]
    }
   ],
   "source": [
    "#what happens if you forget  an argument\n",
    "hello('Santhosh')\n",
    "hello('Santhosh',)"
   ]
  },
  {
   "cell_type": "code",
   "execution_count": 14,
   "metadata": {},
   "outputs": [
    {
     "name": "stdout",
     "output_type": "stream",
     "text": [
      "Hello Santhosh,Welcome to the world of DS\n",
      "Hello Santhosh,Welcome to the world of python\n",
      "Hello Santhosh,Welcome to the world of python\n"
     ]
    }
   ],
   "source": [
    "#Default arguments\n",
    "def hellow1(name,msg='Welcome to the world of python'): #here we've defaulted the msg value which will be used in case it is not passed\n",
    "    \"\"\"\n",
    "    This function welcomes the user with a default msg if msg is not passed while calling the function\n",
    "    \"\"\"\n",
    "    print('Hello {},{}'.format(name,msg))\n",
    "\n",
    "hellow1('Santhosh','Welcome to the world of DS') #when msg is passed\n",
    "hellow1('Santhosh',) #when msg is not passed\n",
    "hellow1('Santhosh') #when msg is not passed"
   ]
  },
  {
   "cell_type": "code",
   "execution_count": 17,
   "metadata": {},
   "outputs": [
    {
     "ename": "SyntaxError",
     "evalue": "non-default argument follows default argument (<ipython-input-17-004f0412e89c>, line 3)",
     "output_type": "error",
     "traceback": [
      "\u001b[1;36m  File \u001b[1;32m\"<ipython-input-17-004f0412e89c>\"\u001b[1;36m, line \u001b[1;32m3\u001b[0m\n\u001b[1;33m    def hellow2(msg='Welcome to the world of python',name):\u001b[0m\n\u001b[1;37m               ^\u001b[0m\n\u001b[1;31mSyntaxError\u001b[0m\u001b[1;31m:\u001b[0m non-default argument follows default argument\n"
     ]
    }
   ],
   "source": [
    "#If syntax or arguments sequence is wrong\n",
    "#here we've defaulted the msg value which will be used in case it is not passed\n",
    "def hellow2(msg='Welcome to the world of python',name): \n",
    "    \"\"\"\n",
    "    This function welcomes the user with a default msg if msg is not passed while calling the function\n",
    "    \"\"\"\n",
    "    print('Hello {},{}'.format(name,msg))\n",
    "\n",
    "hellow2('Santhosh','Welcome to the world of DS') #when msg is passed\n",
    "hellow2('Santhosh',) #when msg is not passed\n",
    "hellow2('Santhosh') #when msg is not passed"
   ]
  },
  {
   "cell_type": "code",
   "execution_count": 19,
   "metadata": {},
   "outputs": [
    {
     "name": "stdout",
     "output_type": "stream",
     "text": [
      "Hello Santhosh,Welcome to the world of Python\n",
      "Hello Santhosh,Welcome to the world of Python\n"
     ]
    }
   ],
   "source": [
    "#Keyword arguments i.e., kwargs can be used when you want function params as key-value pair and in this parameters sequence ain't importatnt, as we'll mention the key name and value name against it \n",
    "def hello(**kwargs):\n",
    "    \"\"\"\n",
    "    This function welcomes a person with the provided msg\n",
    "    \"\"\"\n",
    "    if kwargs:\n",
    "        print('Hello {},{}'.format(kwargs['name'],kwargs['msg']))\n",
    "\n",
    "hello(name='Santhosh',msg='Welcome to the world of Python')\n",
    "hello(msg='Welcome to the world of Python',name='Santhosh')"
   ]
  },
  {
   "cell_type": "code",
   "execution_count": 22,
   "metadata": {},
   "outputs": [
    {
     "name": "stdout",
     "output_type": "stream",
     "text": [
      "('Santhosh', 'Kumar', '', 'Puja', 'Mini')\n",
      "Welcome Santhosh\n",
      "Welcome Kumar\n",
      "Welcome \n",
      "Welcome Puja\n",
      "Welcome Mini\n"
     ]
    }
   ],
   "source": [
    "#arbitary arugments are used when you don't know how many parameters will be passed at runtime to the function, so that we'll iterate over all the arugements and execute the function\n",
    "def hello(*names):\n",
    "    \"\"\"\n",
    "    This function greets all the names in the tuple\n",
    "    \"\"\"\n",
    "    print(names)\n",
    "    for name in names:\n",
    "        print('Welcome {}'.format(name))\n",
    "\n",
    "hello('Santhosh','Kumar','','Puja','Mini')"
   ]
  }
 ],
 "metadata": {
  "kernelspec": {
   "display_name": "Python 3",
   "language": "python",
   "name": "python3"
  },
  "language_info": {
   "codemirror_mode": {
    "name": "ipython",
    "version": 3
   },
   "file_extension": ".py",
   "mimetype": "text/x-python",
   "name": "python",
   "nbconvert_exporter": "python",
   "pygments_lexer": "ipython3",
   "version": "3.7.6"
  }
 },
 "nbformat": 4,
 "nbformat_minor": 4
}
