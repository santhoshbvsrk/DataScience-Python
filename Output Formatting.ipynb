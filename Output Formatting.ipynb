{
 "cells": [
  {
   "cell_type": "code",
   "execution_count": 2,
   "metadata": {},
   "outputs": [
    {
     "name": "stdout",
     "output_type": "stream",
     "text": [
      "myInt1 i.e., 10 is half of myInt2 i.e., 20\n"
     ]
    }
   ],
   "source": [
    "myInt1=10\n",
    "myInt2=20\n",
    "print('myInt1 i.e., {} is half of myInt2 i.e., {}'.format(myInt1,myInt2))"
   ]
  },
  {
   "cell_type": "code",
   "execution_count": 4,
   "metadata": {},
   "outputs": [
    {
     "name": "stdout",
     "output_type": "stream",
     "text": [
      "myInt2 i.e., 20 is double of myInt1 i.e., 10\n"
     ]
    }
   ],
   "source": [
    "myInt1=10\n",
    "myInt2=20\n",
    "print('myInt2 i.e., {1} is double of myInt1 i.e., {0}'.format(myInt1,myInt2))#here we've given indexing of elements inside format"
   ]
  },
  {
   "cell_type": "code",
   "execution_count": 8,
   "metadata": {},
   "outputs": [
    {
     "name": "stdout",
     "output_type": "stream",
     "text": [
      "Welcome Santhosh to the world of Data Science\n",
      "Welcome Santhosh to the world of Data Science\n",
      "Welcome Santhosh to the world of Data Science, we are learning Python\n"
     ]
    }
   ],
   "source": [
    "#use of keyword arguments to form a string\n",
    "print(\"Welcome {name} to the world of {ds}\".format(name='Santhosh',ds='Data Science'))#here it'll check for keyword\n",
    "print(\"Welcome {name} to the world of {ds}\".format(ds='Data Science',name='Santhosh'))#changing sequence doesn't make a diff\n",
    "print(\"Welcome {1} to the world of {0}, we are learning {subject}\".format('Data Science','Santhosh',subject='Python'))#combination of keywords and indexing"
   ]
  },
  {
   "cell_type": "code",
   "execution_count": 13,
   "metadata": {},
   "outputs": [
    {
     "name": "stdout",
     "output_type": "stream",
     "text": [
      "+3.140000, +4.143000\n",
      "3.140000, 4.143000\n"
     ]
    }
   ],
   "source": [
    "#show signs\n",
    "print('{:+f}, {:+f}'.format(3.14,4.143))\n",
    "print('{:f}, {:f}'.format(3.14,4.143))"
   ]
  }
 ],
 "metadata": {
  "kernelspec": {
   "display_name": "Python 3",
   "language": "python",
   "name": "python3"
  },
  "language_info": {
   "codemirror_mode": {
    "name": "ipython",
    "version": 3
   },
   "file_extension": ".py",
   "mimetype": "text/x-python",
   "name": "python",
   "nbconvert_exporter": "python",
   "pygments_lexer": "ipython3",
   "version": "3.7.6"
  }
 },
 "nbformat": 4,
 "nbformat_minor": 4
}
