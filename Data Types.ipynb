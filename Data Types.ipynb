{
 "cells": [
  {
   "cell_type": "code",
   "execution_count": 15,
   "metadata": {},
   "outputs": [
    {
     "name": "stdout",
     "output_type": "stream",
     "text": [
      "<class 'int'>\n",
      "True\n",
      "Is var1 of type Integer True\n"
     ]
    }
   ],
   "source": [
    "#int\n",
    "var1 = 10\n",
    "print(type(var1)) #type function tells the class of the variable\n",
    "print(isinstance(var1,type(var1))) #isinstance function is used to tell if an object belongs to a particular class\n",
    "print('Is var1 of type Integer',isinstance(var1,type(var1)))"
   ]
  },
  {
   "cell_type": "code",
   "execution_count": 7,
   "metadata": {},
   "outputs": [
    {
     "name": "stdout",
     "output_type": "stream",
     "text": [
      "<class 'float'>\n",
      "True\n"
     ]
    }
   ],
   "source": [
    "#float\n",
    "var2 = 10.859\n",
    "print(type(var2)) #type function tells the class of the variable\n",
    "print(isinstance(var2,type(var2))) #isinstance function is used to tell if an object belongs to a particular class\n"
   ]
  },
  {
   "cell_type": "code",
   "execution_count": 10,
   "metadata": {},
   "outputs": [
    {
     "name": "stdout",
     "output_type": "stream",
     "text": [
      "<class 'complex'>\n",
      "True\n"
     ]
    }
   ],
   "source": [
    "#complex\n",
    "var3 = 10+2j\n",
    "print(type(var3)) #type function tells the class of the variable\n",
    "print(isinstance(var3,type(var3))) #isinstance function is used to tell if an object belongs to a particular class"
   ]
  },
  {
   "cell_type": "code",
   "execution_count": 16,
   "metadata": {},
   "outputs": [
    {
     "name": "stdout",
     "output_type": "stream",
     "text": [
      "<class 'bool'>\n",
      "True\n"
     ]
    }
   ],
   "source": [
    "#boolean\n",
    "var4=True\n",
    "print(type(var4)) #type function tells the class of the variable\n",
    "print(isinstance(var4,type(var4))) #isinstance function is used to tell if an object belongs to a particular class"
   ]
  },
  {
   "cell_type": "code",
   "execution_count": 24,
   "metadata": {},
   "outputs": [
    {
     "name": "stdout",
     "output_type": "stream",
     "text": [
      "This is a string variable\n",
      "<class 'str'>\n",
      "True\n",
      "s\n"
     ]
    }
   ],
   "source": [
    "#string \n",
    "var5='This is a string variable'\n",
    "print(var5)\n",
    "print(type(var5)) #type function tells the class of the variable\n",
    "print(isinstance(var5,type(var5))) #isinstance function is used to tell if an object belongs to a particular class\n",
    "print(var5[10]) # to fetch first character of var5"
   ]
  },
  {
   "cell_type": "code",
   "execution_count": 33,
   "metadata": {},
   "outputs": [
    {
     "name": "stdout",
     "output_type": "stream",
     "text": [
      "S s\n",
      "Santho\n",
      "Hi Santho\n",
      " Santhosh, How are you?\n",
      "Hi Santhosh, How are you\n",
      "?\n",
      "Hi Santhosh, How are you?\n"
     ]
    }
   ],
   "source": [
    "#substring/slicing\n",
    "var6='Hi Santhosh, How are you?'\n",
    "print(var6[3],var6[9])\n",
    "print(var6[3:9]) #to fetch from index 3 to index 9\n",
    "print(var6[:9]) #to fetch entire string till index 9\n",
    "print(var6[2:]) #to fetch entire string from index 2\n",
    "print(var6[:-1]) #to fetch entire string except last character\n",
    "print(var6[-1:]) #to fetch last character in the string\n",
    "print(var6[:]) #to fetch the entire string"
   ]
  },
  {
   "cell_type": "code",
   "execution_count": 54,
   "metadata": {},
   "outputs": [
    {
     "name": "stdout",
     "output_type": "stream",
     "text": [
      "[1, 2.5, 'Hi Santhosh', 'HowAreYou', 43, 5.99932324123012, (20+5j)]\n",
      "<class 'list'>\n",
      "HowAreYou\n",
      "[2.5, 'Hi Santhosh', 'HowAreYou', 43]\n",
      "[1, 2.5, 'SanthoshKumar', 'HowAreYou', 43, 5.99932324123012, (20+5j)]\n",
      "[1, 2.5, 'SanthoshKumar', 43, 5.99932324123012, (20+5j)]\n",
      "[1, 2.5, 43, 5.99932324123012, (20+5j)]\n"
     ]
    }
   ],
   "source": [
    "#List --> they change dynamically, are mutable & are enclosed in []\n",
    "var7=[1,2.5,'Hi Santhosh','HowAreYou',43,5.99932324123012,20+5j]\n",
    "print(var7)\n",
    "print(type(var7)) #type of variable\n",
    "print(var7[3]) #to extract 3 element from list\n",
    "print(var7[1:5]) #to extract elements between 1 & 5 from list\n",
    "var7[2]='SanthoshKumar' #mutable i.e., replacing value of a particular element in list\n",
    "print(var7)\n",
    "var7.remove('HowAreYou') #remove a particular element from list\n",
    "print(var7)\n",
    "var7.pop(2) #remove a particular element based on index from list\n",
    "print(var7)"
   ]
  },
  {
   "cell_type": "code",
   "execution_count": 53,
   "metadata": {},
   "outputs": [
    {
     "name": "stdout",
     "output_type": "stream",
     "text": [
      "(1, 2.5, 'Hi Santhosh', 'HowAreYou', 43, 5.99932324123012, (20+5j))\n",
      "<class 'tuple'>\n",
      "HowAreYou\n"
     ]
    },
    {
     "ename": "TypeError",
     "evalue": "'tuple' object does not support item assignment",
     "output_type": "error",
     "traceback": [
      "\u001b[1;31m---------------------------------------------------------------------------\u001b[0m",
      "\u001b[1;31mTypeError\u001b[0m                                 Traceback (most recent call last)",
      "\u001b[1;32m<ipython-input-53-95749236ad60>\u001b[0m in \u001b[0;36m<module>\u001b[1;34m\u001b[0m\n\u001b[0;32m      4\u001b[0m \u001b[0mprint\u001b[0m\u001b[1;33m(\u001b[0m\u001b[0mtype\u001b[0m\u001b[1;33m(\u001b[0m\u001b[0mvar8\u001b[0m\u001b[1;33m)\u001b[0m\u001b[1;33m)\u001b[0m\u001b[1;33m\u001b[0m\u001b[1;33m\u001b[0m\u001b[0m\n\u001b[0;32m      5\u001b[0m \u001b[0mprint\u001b[0m\u001b[1;33m(\u001b[0m\u001b[0mvar8\u001b[0m\u001b[1;33m[\u001b[0m\u001b[1;36m3\u001b[0m\u001b[1;33m]\u001b[0m\u001b[1;33m)\u001b[0m\u001b[1;33m\u001b[0m\u001b[1;33m\u001b[0m\u001b[0m\n\u001b[1;32m----> 6\u001b[1;33m \u001b[0mvar8\u001b[0m\u001b[1;33m[\u001b[0m\u001b[1;36m3\u001b[0m\u001b[1;33m]\u001b[0m\u001b[1;33m=\u001b[0m\u001b[1;34m'How Are you'\u001b[0m \u001b[1;31m# you cannot edit a tuple\u001b[0m\u001b[1;33m\u001b[0m\u001b[1;33m\u001b[0m\u001b[0m\n\u001b[0m",
      "\u001b[1;31mTypeError\u001b[0m: 'tuple' object does not support item assignment"
     ]
    }
   ],
   "source": [
    "#Tuples --> cannot change dynamically, are immutable & enclosed in ()\n",
    "var8=(1,2.5,'Hi Santhosh','HowAreYou',43,5.99932324123012,20+5j)\n",
    "print(var8)\n",
    "print(type(var8)) #type of variable\n",
    "print(var8[3])\n",
    "var8[3]='How Are you' # you cannot edit a tuple"
   ]
  },
  {
   "cell_type": "code",
   "execution_count": 55,
   "metadata": {},
   "outputs": [
    {
     "name": "stdout",
     "output_type": "stream",
     "text": [
      "{40, 10, 50, 20, 30}\n",
      "{10, 20, 50, 30}\n",
      "<class 'set'>\n"
     ]
    },
    {
     "ename": "TypeError",
     "evalue": "'set' object is not subscriptable",
     "output_type": "error",
     "traceback": [
      "\u001b[1;31m---------------------------------------------------------------------------\u001b[0m",
      "\u001b[1;31mTypeError\u001b[0m                                 Traceback (most recent call last)",
      "\u001b[1;32m<ipython-input-55-92e632741825>\u001b[0m in \u001b[0;36m<module>\u001b[1;34m\u001b[0m\n\u001b[0;32m      5\u001b[0m \u001b[0mprint\u001b[0m\u001b[1;33m(\u001b[0m\u001b[0mvar10\u001b[0m\u001b[1;33m)\u001b[0m \u001b[1;31m#won't allow duplicates\u001b[0m\u001b[1;33m\u001b[0m\u001b[1;33m\u001b[0m\u001b[0m\n\u001b[0;32m      6\u001b[0m \u001b[0mprint\u001b[0m\u001b[1;33m(\u001b[0m\u001b[0mtype\u001b[0m\u001b[1;33m(\u001b[0m\u001b[0mvar10\u001b[0m\u001b[1;33m)\u001b[0m\u001b[1;33m)\u001b[0m \u001b[1;31m#type of variable\u001b[0m\u001b[1;33m\u001b[0m\u001b[1;33m\u001b[0m\u001b[0m\n\u001b[1;32m----> 7\u001b[1;33m \u001b[0mprint\u001b[0m\u001b[1;33m(\u001b[0m\u001b[0mvar10\u001b[0m\u001b[1;33m[\u001b[0m\u001b[1;36m1\u001b[0m\u001b[1;33m]\u001b[0m\u001b[1;33m)\u001b[0m\u001b[1;33m\u001b[0m\u001b[1;33m\u001b[0m\u001b[0m\n\u001b[0m",
      "\u001b[1;31mTypeError\u001b[0m: 'set' object is not subscriptable"
     ]
    }
   ],
   "source": [
    "#Set --> Unordered collection of unique items enclosed in {}\n",
    "var9={10,20,30,40,50}\n",
    "print(var9) #unordered --> changes sequence\n",
    "var10={10,20,10,30,20,50}\n",
    "print(var10) #won't allow duplicates\n",
    "print(type(var10)) #type of variable\n",
    "print(var10[1]) #set won't allow indexing as it is unordered"
   ]
  },
  {
   "cell_type": "code",
   "execution_count": 64,
   "metadata": {},
   "outputs": [
    {
     "name": "stdout",
     "output_type": "stream",
     "text": [
      "{'temp1': 10, 'temp2': 'santhosh', 'temp3': 5.5}\n",
      "<class 'dict'>\n",
      "{'temp1': 10, 'temp2': 'SanthoshKumar', 'temp3': 5.5}\n",
      "{'temp1': 10, 'temp2': 'SanthoshKumar', 'temp3': 5.5, 'temp4': 'Welcome!!'}\n",
      "{'temp1': 10, 'temp2': 'SanthoshKumar', 'temp4': 'Welcome!!'}\n"
     ]
    }
   ],
   "source": [
    "#Dictionary --> Unordered collection of Key & Value pair\n",
    "#Dictionary --> Duplicates aren't allowed\n",
    "#Dictionary --> enclosed in {}\n",
    "var11 = {'temp1':10,'temp2':'santhosh','temp3':5.5} #Here temp1,temp2 & temp3 are Keys and the values after : after keys are their respective values\n",
    "print(var11)\n",
    "print(type(var11)) #type would be set as dictionaries are sets\n",
    "var11['temp2']='SanthoshKumar' #this updates the value of a particular key\n",
    "print(var11)\n",
    "var11['temp4']='Welcome!!' #adding a new Key-Value pair to existing dictionary\n",
    "print(var11)\n",
    "del var11['temp3'] #deleting a particular key-value pair to existing dictionary\n",
    "print(var11)"
   ]
  }
 ],
 "metadata": {
  "kernelspec": {
   "display_name": "Python 3",
   "language": "python",
   "name": "python3"
  },
  "language_info": {
   "codemirror_mode": {
    "name": "ipython",
    "version": 3
   },
   "file_extension": ".py",
   "mimetype": "text/x-python",
   "name": "python",
   "nbconvert_exporter": "python",
   "pygments_lexer": "ipython3",
   "version": "3.7.6"
  }
 },
 "nbformat": 4,
 "nbformat_minor": 4
}
