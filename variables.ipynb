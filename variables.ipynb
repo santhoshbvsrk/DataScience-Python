{
 "cells": [
  {
   "cell_type": "code",
   "execution_count": 7,
   "metadata": {},
   "outputs": [
    {
     "name": "stdout",
     "output_type": "stream",
     "text": [
      "Value of Var1 is: 10 and Value of Var2 is: santhosh\n"
     ]
    }
   ],
   "source": [
    "#single assignment\n",
    "var1 = 10\n",
    "var2= 'santhosh'\n",
    "print ('Value of Var1 is:',var1,'and Value of Var2 is:',var2)"
   ]
  },
  {
   "cell_type": "code",
   "execution_count": 10,
   "metadata": {},
   "outputs": [
    {
     "name": "stdout",
     "output_type": "stream",
     "text": [
      "Value of Var1 is: 10 and Value of Var2 is: santhosh\n"
     ]
    }
   ],
   "source": [
    "#multiple assignment\n",
    "var1,var2 = 10,  'santhosh'\n",
    "print ('Value of Var1 is:',var1,'and Value of Var2 is:',var2)"
   ]
  },
  {
   "cell_type": "code",
   "execution_count": 14,
   "metadata": {},
   "outputs": [
    {
     "name": "stdout",
     "output_type": "stream",
     "text": [
      "2739372196400\n",
      "140705343251120\n"
     ]
    }
   ],
   "source": [
    "#address of variable\n",
    "print(id(var2))\n",
    "print(id(var1))"
   ]
  },
  {
   "cell_type": "code",
   "execution_count": 16,
   "metadata": {},
   "outputs": [
    {
     "name": "stdout",
     "output_type": "stream",
     "text": [
      "140705343251120 140705343251120\n",
      "140705343251120 140705343252400\n"
     ]
    }
   ],
   "source": [
    "#saving memory allocation if value of 2 variables is same, by allocating memory only for one\n",
    "var3=10\n",
    "var4=10\n",
    "print(id(var3), id(var4))\n",
    "var4=5*var4\n",
    "print(id(var3), id(var4))"
   ]
  }
 ],
 "metadata": {
  "kernelspec": {
   "display_name": "Python 3",
   "language": "python",
   "name": "python3"
  },
  "language_info": {
   "codemirror_mode": {
    "name": "ipython",
    "version": 3
   },
   "file_extension": ".py",
   "mimetype": "text/x-python",
   "name": "python",
   "nbconvert_exporter": "python",
   "pygments_lexer": "ipython3",
   "version": "3.7.6"
  }
 },
 "nbformat": 4,
 "nbformat_minor": 4
}
