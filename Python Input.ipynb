{
 "cells": [
  {
   "cell_type": "code",
   "execution_count": 1,
   "metadata": {},
   "outputs": [
    {
     "name": "stdout",
     "output_type": "stream",
     "text": [
      "Please enter some data:Hello Santhosh\n",
      "The data you've entered is: Hello Santhosh\n"
     ]
    }
   ],
   "source": [
    "userInput =input(\"Please enter some data:\")\n",
    "print(\"The data you've entered is:\", userInput)"
   ]
  },
  {
   "cell_type": "code",
   "execution_count": 4,
   "metadata": {},
   "outputs": [
    {
     "name": "stdout",
     "output_type": "stream",
     "text": [
      "What is the student population in number:150\n",
      "User input type is: <class 'str'>\n",
      "The student population entered is: 150\n",
      "type casting output is <class 'int'>\n",
      "The student population entered is: 150\n"
     ]
    }
   ],
   "source": [
    "userInput = input(\"What is the student population in number:\")\n",
    "print(\"User input type is:\",type(userInput))\n",
    "print(\"The student population entered is:\",userInput)\n",
    "\n",
    "userInput1=int(userInput)\n",
    "print(\"type casting output is\",type(userInput1))\n",
    "print(\"The student population entered is:\",userInput1)"
   ]
  }
 ],
 "metadata": {
  "kernelspec": {
   "display_name": "Python 3",
   "language": "python",
   "name": "python3"
  },
  "language_info": {
   "codemirror_mode": {
    "name": "ipython",
    "version": 3
   },
   "file_extension": ".py",
   "mimetype": "text/x-python",
   "name": "python",
   "nbconvert_exporter": "python",
   "pygments_lexer": "ipython3",
   "version": "3.7.6"
  }
 },
 "nbformat": 4,
 "nbformat_minor": 4
}
