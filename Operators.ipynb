{
 "cells": [
  {
   "cell_type": "code",
   "execution_count": 7,
   "metadata": {},
   "outputs": [
    {
     "name": "stdout",
     "output_type": "stream",
     "text": [
      "7\n",
      "3\n",
      "10\n",
      "2.5\n",
      "1\n",
      "2\n",
      "25\n"
     ]
    }
   ],
   "source": [
    "#Arithematic Operators\n",
    "var1,var2=5,2\n",
    "print(var1+var2)#addition\n",
    "print(var1-var2)#substraction\n",
    "print(var1*var2)#multiplication\n",
    "print(var1/var2)#division\n",
    "print(var1%var2)#modulus\n",
    "print(var1//var2)#floor division\n",
    "print(var1**var2)#exponent"
   ]
  },
  {
   "cell_type": "code",
   "execution_count": 14,
   "metadata": {},
   "outputs": [
    {
     "name": "stdout",
     "output_type": "stream",
     "text": [
      "False\n",
      "True\n",
      "False\n",
      "False\n",
      "True\n",
      "True\n"
     ]
    }
   ],
   "source": [
    "#Comparison Operators\n",
    "var1,var2=5,2\n",
    "print(var1<var2)#less than\n",
    "print(var1>var2)#greater than\n",
    "print(var1==var2)#equal to\n",
    "print(var1<=var2)#less than or equal to\n",
    "print(var1>=var2)#greater than or equal to\n",
    "print(var1!=var2)#not equal to"
   ]
  },
  {
   "cell_type": "code",
   "execution_count": 23,
   "metadata": {},
   "outputs": [
    {
     "name": "stdout",
     "output_type": "stream",
     "text": [
      "False\n",
      "True\n",
      "True\n"
     ]
    }
   ],
   "source": [
    "#Logical Operators\n",
    "var1,var2=True,False\n",
    "print(var1&var2)#And operator\n",
    "print(var1|var2)#Or operator\n",
    "print(not var2)"
   ]
  },
  {
   "cell_type": "code",
   "execution_count": 34,
   "metadata": {},
   "outputs": [
    {
     "name": "stdout",
     "output_type": "stream",
     "text": [
      "3\n",
      "7\n",
      "-8\n",
      "4\n",
      "1\n",
      "28\n"
     ]
    }
   ],
   "source": [
    "#Bitwise operators\n",
    "var1,var2=3,7   #3 ==> 0000 0011 , 7 ==> 0000 0111 . In this case the first four 0's represent sign\n",
    "print(var1&var2)# and, in this case 0000 0011 & 0000 0111 is 0000 0011 i.e., 3\n",
    "print(var1|var2)# or, in this case 0000 0011 | 0000 0111 is 0000 0111 i.e., 7\n",
    "print(~var2)#not, in this case it'll do ~ 0000 0111 i.e.,1111 1000 i.e., -8\n",
    "print(var1^var2)#XOR, in this case if it is 0 & 1 then output is 1 else 0. Now, 0000 0011 XOR 0000 0111 is 0000 0100 i.e., 4\n",
    "print(var2>>2)#right shift by 2 places, i.e., 0000 0111 will be moved to right by 2 places i.e., 0000 0001 i.e., 1\n",
    "print(var2<<2)#left shift by 2 places, i.e., 0000 0111 will be moved to left by 2 places i.e., 0000 11100 i.e., 2^4+2^3+2^2=28"
   ]
  },
  {
   "cell_type": "code",
   "execution_count": 46,
   "metadata": {},
   "outputs": [
    {
     "name": "stdout",
     "output_type": "stream",
     "text": [
      "40\n",
      "44\n",
      "4\n",
      "16\n",
      "8.0\n",
      "0.0\n",
      "20\n",
      "400\n"
     ]
    }
   ],
   "source": [
    "#Assignment operators\n",
    "age =40 #plain assignment\n",
    "print(age)\n",
    "age+=4 #this is addition i.e., age=age+4 as from the earlier assignment age=40 now 40+4=44\n",
    "print(age)\n",
    "age-=40 #this is substraction i.e., age=age-4, as from the earlier assignment age=44 now 44-40=4\n",
    "print(age)\n",
    "age*=4#this is multiplication i.e., age=age*4, as from the earlier assignment age=4 now 4*4=16\n",
    "print(age) \n",
    "age/=2 #this is division i.e., age=age/2, as from the earlier assignment age=16 now 16/2=8\n",
    "print(age)\n",
    "age%=2 #this is modulus i.e., age=age%2, as from the earlier assignment age=8 now 8%2=0\n",
    "print(age)\n",
    "age=40\n",
    "age//=2#this is Floor division i.e., age=age//2, as from the earlier assignment age=40 now 40//2=20\n",
    "print(age)\n",
    "age**=2#this is exponent i.e., age=age**2 i.e., age^2, as from the earlier assignment age=20 now 20**2 or 20^2=400\n",
    "print(age)"
   ]
  },
  {
   "cell_type": "code",
   "execution_count": 60,
   "metadata": {},
   "outputs": [
    {
     "name": "stdout",
     "output_type": "stream",
     "text": [
      "True\n",
      "False\n",
      "True\n",
      "False\n",
      "True\n",
      "True\n",
      "True\n",
      "False\n"
     ]
    }
   ],
   "source": [
    "#Special Operators --There are 2 types identity operators & Membership operators\n",
    "#Identity Operators -- Primitive data types like int, str, float are not replicated in the memory. Hence if more than one variable has the same value a single memory location is done.\n",
    "var1=20\n",
    "var2=20\n",
    "print(var1 is var2) # as both var1 & var2 holds the same value, there'll be only one location allocated. Hence the value true\n",
    "print(var1 is not var2)\n",
    "\n",
    "myList1=[1,2,4]\n",
    "myList2=[1,2,4]\n",
    "#print(myList1 is MyList2)#Python will create 2 different locations for List even though identical \n",
    "\n",
    "\n",
    "myString1='santhosh'\n",
    "myString2='santhosh'\n",
    "print(myString1 is myString2) # as both var1 & var2 holds the same value, there'll be only one location allocated. Hence the value true\n",
    "print(myString1 is not myString2)\n",
    "\n",
    "#Membership Operators\n",
    "#check if 22 is present in the list\n",
    "myList3=['a',22,'b',100]\n",
    "print(22 in myList3)\n",
    "print('b' in myList3)\n",
    "\n",
    "#check if 22 is present in dictionary\n",
    "myDict1={1:'Apple',2:'Banana'}\n",
    "print(1 in myDict1) #this will work as it checks for key in the dictionary\n",
    "print('Apple' in myDict1) #this will not work as it doesn't check for value in the dictionary but will for Key\n"
   ]
  }
 ],
 "metadata": {
  "kernelspec": {
   "display_name": "Python 3",
   "language": "python",
   "name": "python3"
  },
  "language_info": {
   "codemirror_mode": {
    "name": "ipython",
    "version": 3
   },
   "file_extension": ".py",
   "mimetype": "text/x-python",
   "name": "python",
   "nbconvert_exporter": "python",
   "pygments_lexer": "ipython3",
   "version": "3.7.6"
  }
 },
 "nbformat": 4,
 "nbformat_minor": 4
}
