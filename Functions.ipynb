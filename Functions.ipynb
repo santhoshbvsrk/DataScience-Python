{
 "cells": [
  {
   "cell_type": "code",
   "execution_count": 12,
   "metadata": {},
   "outputs": [],
   "source": [
    "def hello_world(world):\n",
    "    \"\"\"\n",
    "    This is a sample hello world function program\n",
    "    \"\"\"\n",
    "    print(\"Hello \"+str(world))  \n",
    "    \"\"\"\n",
    "    This is the end of function\n",
    "    \"\"\""
   ]
  },
  {
   "cell_type": "code",
   "execution_count": 13,
   "metadata": {},
   "outputs": [
    {
     "name": "stdout",
     "output_type": "stream",
     "text": [
      "Hello santhosh\n"
     ]
    }
   ],
   "source": [
    "hello_world('santhosh')"
   ]
  },
  {
   "cell_type": "code",
   "execution_count": 15,
   "metadata": {},
   "outputs": [
    {
     "name": "stdout",
     "output_type": "stream",
     "text": [
      "\n",
      "    This is a sample hello world function program\n",
      "    \n"
     ]
    }
   ],
   "source": [
    "print(hello_world.__doc__) #doc string prints the first comments/documentation inside the function"
   ]
  },
  {
   "cell_type": "code",
   "execution_count": 19,
   "metadata": {},
   "outputs": [],
   "source": [
    "def sumOfNumbers(numbers):\n",
    "    \"\"\"\n",
    "    This function returns the sum of all numbers in a list\n",
    "    \"\"\"\n",
    "    sumVal=0\n",
    "    for number in numbers:\n",
    "        sumVal+=number\n",
    "    return sumVal"
   ]
  },
  {
   "cell_type": "code",
   "execution_count": 21,
   "metadata": {},
   "outputs": [
    {
     "name": "stdout",
     "output_type": "stream",
     "text": [
      "11\n"
     ]
    }
   ],
   "source": [
    "print(sumOfNumbers([2,4,5]))"
   ]
  },
  {
   "cell_type": "code",
   "execution_count": 22,
   "metadata": {},
   "outputs": [
    {
     "name": "stdout",
     "output_type": "stream",
     "text": [
      "\n",
      "    This function returns the sum of all numbers in a list\n",
      "    \n"
     ]
    }
   ],
   "source": [
    "print(sumOfNumbers.__doc__)"
   ]
  },
  {
   "cell_type": "code",
   "execution_count": 25,
   "metadata": {},
   "outputs": [
    {
     "name": "stdout",
     "output_type": "stream",
     "text": [
      "Outside the function: This is a global var\n"
     ]
    },
    {
     "ename": "NameError",
     "evalue": "name 'localvar' is not defined",
     "output_type": "error",
     "traceback": [
      "\u001b[1;31m---------------------------------------------------------------------------\u001b[0m",
      "\u001b[1;31mNameError\u001b[0m                                 Traceback (most recent call last)",
      "\u001b[1;32m<ipython-input-25-9553a34fa473>\u001b[0m in \u001b[0;36m<module>\u001b[1;34m\u001b[0m\n\u001b[0;32m      8\u001b[0m     \u001b[0mprint\u001b[0m\u001b[1;33m(\u001b[0m\u001b[1;34m\"Inside the function:\"\u001b[0m\u001b[1;33m,\u001b[0m\u001b[0mglobalvar\u001b[0m\u001b[1;33m)\u001b[0m\u001b[1;33m\u001b[0m\u001b[1;33m\u001b[0m\u001b[0m\n\u001b[0;32m      9\u001b[0m \u001b[0mprint\u001b[0m\u001b[1;33m(\u001b[0m\u001b[1;34m\"Outside the function:\"\u001b[0m\u001b[1;33m,\u001b[0m\u001b[0mglobalvar\u001b[0m\u001b[1;33m)\u001b[0m\u001b[1;33m\u001b[0m\u001b[1;33m\u001b[0m\u001b[0m\n\u001b[1;32m---> 10\u001b[1;33m \u001b[0mprint\u001b[0m\u001b[1;33m(\u001b[0m\u001b[1;34m\"Outside the function:\"\u001b[0m\u001b[1;33m,\u001b[0m\u001b[0mlocalvar\u001b[0m\u001b[1;33m)\u001b[0m\u001b[1;33m\u001b[0m\u001b[1;33m\u001b[0m\u001b[0m\n\u001b[0m\u001b[0;32m     11\u001b[0m \u001b[0mscopeOfVar\u001b[0m\u001b[1;33m(\u001b[0m\u001b[1;33m)\u001b[0m\u001b[1;33m\u001b[0m\u001b[1;33m\u001b[0m\u001b[0m\n",
      "\u001b[1;31mNameError\u001b[0m: name 'localvar' is not defined"
     ]
    }
   ],
   "source": [
    "globalvar=\"This is a global var\"\n",
    "def scopeOfVar():\n",
    "    \"\"\"\n",
    "    This function is used to test the scope of variables\n",
    "    \"\"\"\n",
    "    localvar=\"This is a local var\"\n",
    "    print(\"Inside the function:\",localvar)\n",
    "    print(\"Inside the function:\",globalvar)\n",
    "print(\"Outside the function:\",globalvar)\n",
    "print(\"Outside the function:\",localvar)\n",
    "scopeOfVar()"
   ]
  },
  {
   "cell_type": "code",
   "execution_count": 30,
   "metadata": {},
   "outputs": [],
   "source": [
    "def factorial(number):\n",
    "    \"\"\"\n",
    "    This function is used to find factorial of a number\n",
    "    \"\"\"\n",
    "    fact=1\n",
    "    while number>0:\n",
    "        fact*=number\n",
    "        number-=1\n",
    "    return fact"
   ]
  },
  {
   "cell_type": "code",
   "execution_count": 34,
   "metadata": {},
   "outputs": [
    {
     "name": "stdout",
     "output_type": "stream",
     "text": [
      "The factorial of 4 is 24\n"
     ]
    }
   ],
   "source": [
    "print(\"The factorial of {} is {}\".format(4,factorial(4)))"
   ]
  },
  {
   "cell_type": "code",
   "execution_count": null,
   "metadata": {},
   "outputs": [],
   "source": []
  }
 ],
 "metadata": {
  "kernelspec": {
   "display_name": "Python 3",
   "language": "python",
   "name": "python3"
  },
  "language_info": {
   "codemirror_mode": {
    "name": "ipython",
    "version": 3
   },
   "file_extension": ".py",
   "mimetype": "text/x-python",
   "name": "python",
   "nbconvert_exporter": "python",
   "pygments_lexer": "ipython3",
   "version": "3.7.6"
  }
 },
 "nbformat": 4,
 "nbformat_minor": 4
}
